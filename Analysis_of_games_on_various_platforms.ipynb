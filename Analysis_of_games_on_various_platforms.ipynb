{
  "nbformat": 4,
  "nbformat_minor": 0,
  "metadata": {
    "kernelspec": {
      "display_name": "Python 3",
      "language": "python",
      "name": "python3"
    },
    "language_info": {
      "codemirror_mode": {
        "name": "ipython",
        "version": 3
      },
      "file_extension": ".py",
      "mimetype": "text/x-python",
      "name": "python",
      "nbconvert_exporter": "python",
      "pygments_lexer": "ipython3",
      "version": "3.7.8"
    },
    "toc": {
      "base_numbering": 1,
      "nav_menu": {},
      "number_sections": true,
      "sideBar": true,
      "skip_h1_title": true,
      "title_cell": "Table of Contents",
      "title_sidebar": "Contents",
      "toc_cell": false,
      "toc_position": {},
      "toc_section_display": true,
      "toc_window_display": false
    },
    "colab": {
      "name": "Analysis of games on various platforms.ipynb",
      "provenance": []
    }
  },
  "cells": [
    {
      "cell_type": "markdown",
      "metadata": {
        "id": "KJqMK11ij7T0"
      },
      "source": [
        "Анализ игр на различных платформах\n",
        "========"
      ]
    },
    {
      "cell_type": "markdown",
      "metadata": {
        "id": "dqyGUeDQj7T1"
      },
      "source": [
        "<div>\n",
        "    \n",
        "<b> Описание проекта</b>\n",
        "    \n",
        "В данном преокте необходимо выявить определяющие успешность игры закономерности. Это позволит сделать ставку на потенциально популярный продукт и спланировать рекламные кампании. Объект анализа - исторические данные о продажах игр, оценки пользователей и экспертов, жанры и платформы до 2016 года включительно. Основными вопросами, на которые предстоят дать ответ, являются:\n",
        "    \n",
        "* Как влияют на продажи внутри одной популярной платформы отзывы пользователей и критиков?\n",
        "* Какие самые популярные платформы?\n",
        "* Какие самые популярные жанры?\n",
        "* Средние пользовательские рейтинги платформ Xbox One и PC одинаковые?\n",
        "* Средние пользовательские рейтинги жанров Action и Sports разные?\n",
        "* и др.\n",
        "    \n",
        "Данный проект состоит из пяти основных частей:\n",
        "    \n",
        "* Открытие файла и подготовка данных\n",
        "* Исследовательский анализ данных\n",
        "* Составление портрета пользователя каждого региона\n",
        "* Проверка гипотез\n",
        "* Общий вывод\n",
        "    \n",
        "</div>"
      ]
    },
    {
      "cell_type": "markdown",
      "metadata": {
        "id": "HO49TeJoj7T1"
      },
      "source": [
        "Открытие файла и подготовка данных\n",
        "========"
      ]
    },
    {
      "cell_type": "code",
      "metadata": {
        "id": "J7eMyrRuj7T2"
      },
      "source": [
        "import pandas as pd\n",
        "import numpy as np\n",
        "import seaborn as sns\n",
        "from scipy import stats as st\n",
        "from matplotlib import pyplot as plt"
      ],
      "execution_count": null,
      "outputs": []
    },
    {
      "cell_type": "code",
      "metadata": {
        "id": "nVbjRcMzj7T2"
      },
      "source": [
        "import warnings\n",
        "warnings.filterwarnings('ignore')"
      ],
      "execution_count": null,
      "outputs": []
    },
    {
      "cell_type": "code",
      "metadata": {
        "id": "qTHbbvyAj7T3"
      },
      "source": [
        "df = pd.read_csv('/datasets/games.csv')"
      ],
      "execution_count": null,
      "outputs": []
    },
    {
      "cell_type": "code",
      "metadata": {
        "id": "ipGj3Ry8j7T3",
        "outputId": "7b446d24-5c46-4835-d3f3-d3a1ee9c2b35"
      },
      "source": [
        "df.head()"
      ],
      "execution_count": null,
      "outputs": [
        {
          "output_type": "execute_result",
          "data": {
            "text/html": [
              "<div>\n",
              "<style scoped>\n",
              "    .dataframe tbody tr th:only-of-type {\n",
              "        vertical-align: middle;\n",
              "    }\n",
              "\n",
              "    .dataframe tbody tr th {\n",
              "        vertical-align: top;\n",
              "    }\n",
              "\n",
              "    .dataframe thead th {\n",
              "        text-align: right;\n",
              "    }\n",
              "</style>\n",
              "<table border=\"1\" class=\"dataframe\">\n",
              "  <thead>\n",
              "    <tr style=\"text-align: right;\">\n",
              "      <th></th>\n",
              "      <th>Name</th>\n",
              "      <th>Platform</th>\n",
              "      <th>Year_of_Release</th>\n",
              "      <th>Genre</th>\n",
              "      <th>NA_sales</th>\n",
              "      <th>EU_sales</th>\n",
              "      <th>JP_sales</th>\n",
              "      <th>Other_sales</th>\n",
              "      <th>Critic_Score</th>\n",
              "      <th>User_Score</th>\n",
              "      <th>Rating</th>\n",
              "    </tr>\n",
              "  </thead>\n",
              "  <tbody>\n",
              "    <tr>\n",
              "      <td>0</td>\n",
              "      <td>Wii Sports</td>\n",
              "      <td>Wii</td>\n",
              "      <td>2006.0</td>\n",
              "      <td>Sports</td>\n",
              "      <td>41.36</td>\n",
              "      <td>28.96</td>\n",
              "      <td>3.77</td>\n",
              "      <td>8.45</td>\n",
              "      <td>76.0</td>\n",
              "      <td>8</td>\n",
              "      <td>E</td>\n",
              "    </tr>\n",
              "    <tr>\n",
              "      <td>1</td>\n",
              "      <td>Super Mario Bros.</td>\n",
              "      <td>NES</td>\n",
              "      <td>1985.0</td>\n",
              "      <td>Platform</td>\n",
              "      <td>29.08</td>\n",
              "      <td>3.58</td>\n",
              "      <td>6.81</td>\n",
              "      <td>0.77</td>\n",
              "      <td>NaN</td>\n",
              "      <td>NaN</td>\n",
              "      <td>NaN</td>\n",
              "    </tr>\n",
              "    <tr>\n",
              "      <td>2</td>\n",
              "      <td>Mario Kart Wii</td>\n",
              "      <td>Wii</td>\n",
              "      <td>2008.0</td>\n",
              "      <td>Racing</td>\n",
              "      <td>15.68</td>\n",
              "      <td>12.76</td>\n",
              "      <td>3.79</td>\n",
              "      <td>3.29</td>\n",
              "      <td>82.0</td>\n",
              "      <td>8.3</td>\n",
              "      <td>E</td>\n",
              "    </tr>\n",
              "    <tr>\n",
              "      <td>3</td>\n",
              "      <td>Wii Sports Resort</td>\n",
              "      <td>Wii</td>\n",
              "      <td>2009.0</td>\n",
              "      <td>Sports</td>\n",
              "      <td>15.61</td>\n",
              "      <td>10.93</td>\n",
              "      <td>3.28</td>\n",
              "      <td>2.95</td>\n",
              "      <td>80.0</td>\n",
              "      <td>8</td>\n",
              "      <td>E</td>\n",
              "    </tr>\n",
              "    <tr>\n",
              "      <td>4</td>\n",
              "      <td>Pokemon Red/Pokemon Blue</td>\n",
              "      <td>GB</td>\n",
              "      <td>1996.0</td>\n",
              "      <td>Role-Playing</td>\n",
              "      <td>11.27</td>\n",
              "      <td>8.89</td>\n",
              "      <td>10.22</td>\n",
              "      <td>1.00</td>\n",
              "      <td>NaN</td>\n",
              "      <td>NaN</td>\n",
              "      <td>NaN</td>\n",
              "    </tr>\n",
              "  </tbody>\n",
              "</table>\n",
              "</div>"
            ],
            "text/plain": [
              "                       Name Platform  Year_of_Release         Genre  NA_sales  \\\n",
              "0                Wii Sports      Wii           2006.0        Sports     41.36   \n",
              "1         Super Mario Bros.      NES           1985.0      Platform     29.08   \n",
              "2            Mario Kart Wii      Wii           2008.0        Racing     15.68   \n",
              "3         Wii Sports Resort      Wii           2009.0        Sports     15.61   \n",
              "4  Pokemon Red/Pokemon Blue       GB           1996.0  Role-Playing     11.27   \n",
              "\n",
              "   EU_sales  JP_sales  Other_sales  Critic_Score User_Score Rating  \n",
              "0     28.96      3.77         8.45          76.0          8      E  \n",
              "1      3.58      6.81         0.77           NaN        NaN    NaN  \n",
              "2     12.76      3.79         3.29          82.0        8.3      E  \n",
              "3     10.93      3.28         2.95          80.0          8      E  \n",
              "4      8.89     10.22         1.00           NaN        NaN    NaN  "
            ]
          },
          "metadata": {
            "tags": []
          },
          "execution_count": 4
        }
      ]
    },
    {
      "cell_type": "code",
      "metadata": {
        "id": "s31E6IHJj7T4",
        "outputId": "a8119aac-7a3d-45dc-bcd4-04683f66a2a4"
      },
      "source": [
        "df.columns"
      ],
      "execution_count": null,
      "outputs": [
        {
          "output_type": "execute_result",
          "data": {
            "text/plain": [
              "Index(['Name', 'Platform', 'Year_of_Release', 'Genre', 'NA_sales', 'EU_sales',\n",
              "       'JP_sales', 'Other_sales', 'Critic_Score', 'User_Score', 'Rating'],\n",
              "      dtype='object')"
            ]
          },
          "metadata": {
            "tags": []
          },
          "execution_count": 5
        }
      ]
    },
    {
      "cell_type": "code",
      "metadata": {
        "id": "PMyTHgyGj7T5"
      },
      "source": [
        "df.columns = ['name', 'platform', 'year_of_release', 'genre', 'na_sales', 'eu_sales',\n",
        "       'jp_sales', 'other_sales', 'critic_score', 'user_score', 'rating']"
      ],
      "execution_count": null,
      "outputs": []
    },
    {
      "cell_type": "markdown",
      "metadata": {
        "id": "i5ArsqECj7T5"
      },
      "source": [
        "Привел названия столбцов к нижнему регистру. Для простоты сделал это вручную, написав необходимые названия заново."
      ]
    },
    {
      "cell_type": "code",
      "metadata": {
        "id": "w6J5m4D4j7T5",
        "outputId": "866a0ac7-caac-4ae2-ee41-07d396a05502"
      },
      "source": [
        "df.head()"
      ],
      "execution_count": null,
      "outputs": [
        {
          "output_type": "execute_result",
          "data": {
            "text/html": [
              "<div>\n",
              "<style scoped>\n",
              "    .dataframe tbody tr th:only-of-type {\n",
              "        vertical-align: middle;\n",
              "    }\n",
              "\n",
              "    .dataframe tbody tr th {\n",
              "        vertical-align: top;\n",
              "    }\n",
              "\n",
              "    .dataframe thead th {\n",
              "        text-align: right;\n",
              "    }\n",
              "</style>\n",
              "<table border=\"1\" class=\"dataframe\">\n",
              "  <thead>\n",
              "    <tr style=\"text-align: right;\">\n",
              "      <th></th>\n",
              "      <th>name</th>\n",
              "      <th>platform</th>\n",
              "      <th>year_of_release</th>\n",
              "      <th>genre</th>\n",
              "      <th>na_sales</th>\n",
              "      <th>eu_sales</th>\n",
              "      <th>jp_sales</th>\n",
              "      <th>other_sales</th>\n",
              "      <th>critic_score</th>\n",
              "      <th>user_score</th>\n",
              "      <th>rating</th>\n",
              "    </tr>\n",
              "  </thead>\n",
              "  <tbody>\n",
              "    <tr>\n",
              "      <td>0</td>\n",
              "      <td>Wii Sports</td>\n",
              "      <td>Wii</td>\n",
              "      <td>2006.0</td>\n",
              "      <td>Sports</td>\n",
              "      <td>41.36</td>\n",
              "      <td>28.96</td>\n",
              "      <td>3.77</td>\n",
              "      <td>8.45</td>\n",
              "      <td>76.0</td>\n",
              "      <td>8</td>\n",
              "      <td>E</td>\n",
              "    </tr>\n",
              "    <tr>\n",
              "      <td>1</td>\n",
              "      <td>Super Mario Bros.</td>\n",
              "      <td>NES</td>\n",
              "      <td>1985.0</td>\n",
              "      <td>Platform</td>\n",
              "      <td>29.08</td>\n",
              "      <td>3.58</td>\n",
              "      <td>6.81</td>\n",
              "      <td>0.77</td>\n",
              "      <td>NaN</td>\n",
              "      <td>NaN</td>\n",
              "      <td>NaN</td>\n",
              "    </tr>\n",
              "    <tr>\n",
              "      <td>2</td>\n",
              "      <td>Mario Kart Wii</td>\n",
              "      <td>Wii</td>\n",
              "      <td>2008.0</td>\n",
              "      <td>Racing</td>\n",
              "      <td>15.68</td>\n",
              "      <td>12.76</td>\n",
              "      <td>3.79</td>\n",
              "      <td>3.29</td>\n",
              "      <td>82.0</td>\n",
              "      <td>8.3</td>\n",
              "      <td>E</td>\n",
              "    </tr>\n",
              "    <tr>\n",
              "      <td>3</td>\n",
              "      <td>Wii Sports Resort</td>\n",
              "      <td>Wii</td>\n",
              "      <td>2009.0</td>\n",
              "      <td>Sports</td>\n",
              "      <td>15.61</td>\n",
              "      <td>10.93</td>\n",
              "      <td>3.28</td>\n",
              "      <td>2.95</td>\n",
              "      <td>80.0</td>\n",
              "      <td>8</td>\n",
              "      <td>E</td>\n",
              "    </tr>\n",
              "    <tr>\n",
              "      <td>4</td>\n",
              "      <td>Pokemon Red/Pokemon Blue</td>\n",
              "      <td>GB</td>\n",
              "      <td>1996.0</td>\n",
              "      <td>Role-Playing</td>\n",
              "      <td>11.27</td>\n",
              "      <td>8.89</td>\n",
              "      <td>10.22</td>\n",
              "      <td>1.00</td>\n",
              "      <td>NaN</td>\n",
              "      <td>NaN</td>\n",
              "      <td>NaN</td>\n",
              "    </tr>\n",
              "  </tbody>\n",
              "</table>\n",
              "</div>"
            ],
            "text/plain": [
              "                       name platform  year_of_release         genre  na_sales  \\\n",
              "0                Wii Sports      Wii           2006.0        Sports     41.36   \n",
              "1         Super Mario Bros.      NES           1985.0      Platform     29.08   \n",
              "2            Mario Kart Wii      Wii           2008.0        Racing     15.68   \n",
              "3         Wii Sports Resort      Wii           2009.0        Sports     15.61   \n",
              "4  Pokemon Red/Pokemon Blue       GB           1996.0  Role-Playing     11.27   \n",
              "\n",
              "   eu_sales  jp_sales  other_sales  critic_score user_score rating  \n",
              "0     28.96      3.77         8.45          76.0          8      E  \n",
              "1      3.58      6.81         0.77           NaN        NaN    NaN  \n",
              "2     12.76      3.79         3.29          82.0        8.3      E  \n",
              "3     10.93      3.28         2.95          80.0          8      E  \n",
              "4      8.89     10.22         1.00           NaN        NaN    NaN  "
            ]
          },
          "metadata": {
            "tags": []
          },
          "execution_count": 7
        }
      ]
    },
    {
      "cell_type": "markdown",
      "metadata": {
        "id": "_wSQiAvNj7T5"
      },
      "source": [
        "<div>\n",
        "    \n",
        "<b> Изменение типа данных</b>\n",
        "\n",
        "<div> "
      ]
    },
    {
      "cell_type": "code",
      "metadata": {
        "id": "g7zpwsA_j7T6",
        "outputId": "294029f8-25c9-4550-c221-9efed191927d"
      },
      "source": [
        "df.info()"
      ],
      "execution_count": null,
      "outputs": [
        {
          "output_type": "stream",
          "text": [
            "<class 'pandas.core.frame.DataFrame'>\n",
            "RangeIndex: 16715 entries, 0 to 16714\n",
            "Data columns (total 11 columns):\n",
            "name               16713 non-null object\n",
            "platform           16715 non-null object\n",
            "year_of_release    16446 non-null float64\n",
            "genre              16713 non-null object\n",
            "na_sales           16715 non-null float64\n",
            "eu_sales           16715 non-null float64\n",
            "jp_sales           16715 non-null float64\n",
            "other_sales        16715 non-null float64\n",
            "critic_score       8137 non-null float64\n",
            "user_score         10014 non-null object\n",
            "rating             9949 non-null object\n",
            "dtypes: float64(6), object(5)\n",
            "memory usage: 1.4+ MB\n"
          ],
          "name": "stdout"
        }
      ]
    },
    {
      "cell_type": "markdown",
      "metadata": {
        "id": "fb20EEwPj7T6"
      },
      "source": [
        "Видно, что для столбца 'year_of_release' стоит дробный тип данных. Заменю его на целочисленный тип."
      ]
    },
    {
      "cell_type": "code",
      "metadata": {
        "id": "M6zsVjdEj7T6"
      },
      "source": [
        "df['year_of_release'] = df['year_of_release'].fillna(0)"
      ],
      "execution_count": null,
      "outputs": []
    },
    {
      "cell_type": "markdown",
      "metadata": {
        "id": "R01yUmnuj7T6"
      },
      "source": [
        "Поскольку в столбце 'year_of_release' есть пропущенные значения, нельзя поменять тип данных для этого столбца с float на integer. Поэтому предварительно заменил пропущенные значения на ноль. Далее, в процессе предобработки я решу, стоит ли дополнительно проводить действия над нулевыми значениями."
      ]
    },
    {
      "cell_type": "code",
      "metadata": {
        "id": "GBa90ag3j7T7"
      },
      "source": [
        "df['year_of_release'] = df['year_of_release'].astype('int32')"
      ],
      "execution_count": null,
      "outputs": []
    },
    {
      "cell_type": "markdown",
      "metadata": {
        "id": "ja0d1Znxj7T7"
      },
      "source": [
        "Теперь столбец 'year_of_release' отображается с правильным типом данных. Также необходимо поменять тип данных столбца 'user_score', чтобы вместо типа данных object стал float64."
      ]
    },
    {
      "cell_type": "code",
      "metadata": {
        "id": "Y7-NNjH6j7T7",
        "outputId": "96c8c924-c786-4cca-e14d-ce454abd1d64"
      },
      "source": [
        "df['user_score'].unique()"
      ],
      "execution_count": null,
      "outputs": [
        {
          "output_type": "execute_result",
          "data": {
            "text/plain": [
              "array(['8', nan, '8.3', '8.5', '6.6', '8.4', '8.6', '7.7', '6.3', '7.4',\n",
              "       '8.2', '9', '7.9', '8.1', '8.7', '7.1', '3.4', '5.3', '4.8', '3.2',\n",
              "       '8.9', '6.4', '7.8', '7.5', '2.6', '7.2', '9.2', '7', '7.3', '4.3',\n",
              "       '7.6', '5.7', '5', '9.1', '6.5', 'tbd', '8.8', '6.9', '9.4', '6.8',\n",
              "       '6.1', '6.7', '5.4', '4', '4.9', '4.5', '9.3', '6.2', '4.2', '6',\n",
              "       '3.7', '4.1', '5.8', '5.6', '5.5', '4.4', '4.6', '5.9', '3.9',\n",
              "       '3.1', '2.9', '5.2', '3.3', '4.7', '5.1', '3.5', '2.5', '1.9', '3',\n",
              "       '2.7', '2.2', '2', '9.5', '2.1', '3.6', '2.8', '1.8', '3.8', '0',\n",
              "       '1.6', '9.6', '2.4', '1.7', '1.1', '0.3', '1.5', '0.7', '1.2',\n",
              "       '2.3', '0.5', '1.3', '0.2', '0.6', '1.4', '0.9', '1', '9.7'],\n",
              "      dtype=object)"
            ]
          },
          "metadata": {
            "tags": []
          },
          "execution_count": 11
        }
      ]
    },
    {
      "cell_type": "markdown",
      "metadata": {
        "id": "kxzQ2Opwj7T7"
      },
      "source": [
        "Для столбца 'user_score' нет возможности менять тип данных с object на float поскольку среди чисел есть 'tbd', которое не позволит поменять тип данных."
      ]
    },
    {
      "cell_type": "markdown",
      "metadata": {
        "id": "r0inBm1Ij7T8"
      },
      "source": [
        "В столбцах с рейтингом есть стоки с значением tbd. \n",
        "To Be Determined - будет определено или требует уточнения. Видимо, данные неточны или возможно была накрутка, поэтому стоит такое значениею."
      ]
    },
    {
      "cell_type": "code",
      "metadata": {
        "id": "YMDjvs3zj7T9"
      },
      "source": [
        "df.loc[df['user_score'] == \"tbd\", 'user_score'] = 0"
      ],
      "execution_count": null,
      "outputs": []
    },
    {
      "cell_type": "code",
      "metadata": {
        "id": "7kj95nI8j7T9"
      },
      "source": [
        "df['user_score'] = df['user_score'].astype('float64')"
      ],
      "execution_count": null,
      "outputs": []
    },
    {
      "cell_type": "markdown",
      "metadata": {
        "id": "D5nfVOkXj7T9"
      },
      "source": [
        "Заменил тип данных для столбца 'user_score' на float"
      ]
    },
    {
      "cell_type": "code",
      "metadata": {
        "id": "DiXSWUaTj7T9",
        "outputId": "a7e93cd9-4d14-48f2-aa10-59133b601923"
      },
      "source": [
        "df['rating'].unique()"
      ],
      "execution_count": null,
      "outputs": [
        {
          "output_type": "execute_result",
          "data": {
            "text/plain": [
              "array(['E', nan, 'M', 'T', 'E10+', 'K-A', 'AO', 'EC', 'RP'], dtype=object)"
            ]
          },
          "metadata": {
            "tags": []
          },
          "execution_count": 14
        }
      ]
    },
    {
      "cell_type": "code",
      "metadata": {
        "id": "N9sLQF8hj7T-"
      },
      "source": [
        "df['rating'] = df['rating'].fillna('undefined')"
      ],
      "execution_count": null,
      "outputs": []
    },
    {
      "cell_type": "code",
      "metadata": {
        "id": "ttVwnwMVj7T-",
        "outputId": "06d92e78-3dd5-4b2a-e04d-b326cce0f8fd"
      },
      "source": [
        "df['rating'].unique()"
      ],
      "execution_count": null,
      "outputs": [
        {
          "output_type": "execute_result",
          "data": {
            "text/plain": [
              "array(['E', 'undefined', 'M', 'T', 'E10+', 'K-A', 'AO', 'EC', 'RP'],\n",
              "      dtype=object)"
            ]
          },
          "metadata": {
            "tags": []
          },
          "execution_count": 17
        }
      ]
    },
    {
      "cell_type": "markdown",
      "metadata": {
        "id": "7v-1OLH9j7T-"
      },
      "source": [
        "<div class=\"alert alert-info\">\n",
        "    \n",
        "Заменил значение NaN на undefined\n",
        "</div>"
      ]
    },
    {
      "cell_type": "markdown",
      "metadata": {
        "id": "xpjWEuvjj7T_"
      },
      "source": [
        "<div>\n",
        "    \n",
        "<b> Обработка пропусков</b>\n",
        "\n",
        "<div> "
      ]
    },
    {
      "cell_type": "code",
      "metadata": {
        "id": "sZ5NYFT7j7T_",
        "outputId": "c11abdb8-7e38-45ba-c07b-fbc06ead88b6"
      },
      "source": [
        "df.info()"
      ],
      "execution_count": null,
      "outputs": [
        {
          "output_type": "stream",
          "text": [
            "<class 'pandas.core.frame.DataFrame'>\n",
            "RangeIndex: 16715 entries, 0 to 16714\n",
            "Data columns (total 11 columns):\n",
            "name               16713 non-null object\n",
            "platform           16715 non-null object\n",
            "year_of_release    16715 non-null int32\n",
            "genre              16713 non-null object\n",
            "na_sales           16715 non-null float64\n",
            "eu_sales           16715 non-null float64\n",
            "jp_sales           16715 non-null float64\n",
            "other_sales        16715 non-null float64\n",
            "critic_score       8137 non-null float64\n",
            "user_score         10014 non-null float64\n",
            "rating             16715 non-null object\n",
            "dtypes: float64(6), int32(1), object(4)\n",
            "memory usage: 1.3+ MB\n"
          ],
          "name": "stdout"
        }
      ]
    },
    {
      "cell_type": "code",
      "metadata": {
        "id": "CA7zO2-Uj7UA"
      },
      "source": [
        "df.dropna(subset = ['name'], inplace = True)"
      ],
      "execution_count": null,
      "outputs": []
    },
    {
      "cell_type": "markdown",
      "metadata": {
        "id": "_14bR3Kuj7UA"
      },
      "source": [
        "Удалил строки, в которых нет названия игры. Эти данные не информативны. И их было мало"
      ]
    },
    {
      "cell_type": "code",
      "metadata": {
        "id": "iPq2frTpj7UA",
        "outputId": "30d41ee3-2269-4ade-bf56-427a4484984e"
      },
      "source": [
        "df.reset_index(drop = True)"
      ],
      "execution_count": null,
      "outputs": [
        {
          "output_type": "execute_result",
          "data": {
            "text/html": [
              "<div>\n",
              "<style scoped>\n",
              "    .dataframe tbody tr th:only-of-type {\n",
              "        vertical-align: middle;\n",
              "    }\n",
              "\n",
              "    .dataframe tbody tr th {\n",
              "        vertical-align: top;\n",
              "    }\n",
              "\n",
              "    .dataframe thead th {\n",
              "        text-align: right;\n",
              "    }\n",
              "</style>\n",
              "<table border=\"1\" class=\"dataframe\">\n",
              "  <thead>\n",
              "    <tr style=\"text-align: right;\">\n",
              "      <th></th>\n",
              "      <th>name</th>\n",
              "      <th>platform</th>\n",
              "      <th>year_of_release</th>\n",
              "      <th>genre</th>\n",
              "      <th>na_sales</th>\n",
              "      <th>eu_sales</th>\n",
              "      <th>jp_sales</th>\n",
              "      <th>other_sales</th>\n",
              "      <th>critic_score</th>\n",
              "      <th>user_score</th>\n",
              "      <th>rating</th>\n",
              "    </tr>\n",
              "  </thead>\n",
              "  <tbody>\n",
              "    <tr>\n",
              "      <td>0</td>\n",
              "      <td>Wii Sports</td>\n",
              "      <td>Wii</td>\n",
              "      <td>2006</td>\n",
              "      <td>Sports</td>\n",
              "      <td>41.36</td>\n",
              "      <td>28.96</td>\n",
              "      <td>3.77</td>\n",
              "      <td>8.45</td>\n",
              "      <td>76.0</td>\n",
              "      <td>8.0</td>\n",
              "      <td>E</td>\n",
              "    </tr>\n",
              "    <tr>\n",
              "      <td>1</td>\n",
              "      <td>Super Mario Bros.</td>\n",
              "      <td>NES</td>\n",
              "      <td>1985</td>\n",
              "      <td>Platform</td>\n",
              "      <td>29.08</td>\n",
              "      <td>3.58</td>\n",
              "      <td>6.81</td>\n",
              "      <td>0.77</td>\n",
              "      <td>NaN</td>\n",
              "      <td>NaN</td>\n",
              "      <td>undefined</td>\n",
              "    </tr>\n",
              "    <tr>\n",
              "      <td>2</td>\n",
              "      <td>Mario Kart Wii</td>\n",
              "      <td>Wii</td>\n",
              "      <td>2008</td>\n",
              "      <td>Racing</td>\n",
              "      <td>15.68</td>\n",
              "      <td>12.76</td>\n",
              "      <td>3.79</td>\n",
              "      <td>3.29</td>\n",
              "      <td>82.0</td>\n",
              "      <td>8.3</td>\n",
              "      <td>E</td>\n",
              "    </tr>\n",
              "    <tr>\n",
              "      <td>3</td>\n",
              "      <td>Wii Sports Resort</td>\n",
              "      <td>Wii</td>\n",
              "      <td>2009</td>\n",
              "      <td>Sports</td>\n",
              "      <td>15.61</td>\n",
              "      <td>10.93</td>\n",
              "      <td>3.28</td>\n",
              "      <td>2.95</td>\n",
              "      <td>80.0</td>\n",
              "      <td>8.0</td>\n",
              "      <td>E</td>\n",
              "    </tr>\n",
              "    <tr>\n",
              "      <td>4</td>\n",
              "      <td>Pokemon Red/Pokemon Blue</td>\n",
              "      <td>GB</td>\n",
              "      <td>1996</td>\n",
              "      <td>Role-Playing</td>\n",
              "      <td>11.27</td>\n",
              "      <td>8.89</td>\n",
              "      <td>10.22</td>\n",
              "      <td>1.00</td>\n",
              "      <td>NaN</td>\n",
              "      <td>NaN</td>\n",
              "      <td>undefined</td>\n",
              "    </tr>\n",
              "    <tr>\n",
              "      <td>...</td>\n",
              "      <td>...</td>\n",
              "      <td>...</td>\n",
              "      <td>...</td>\n",
              "      <td>...</td>\n",
              "      <td>...</td>\n",
              "      <td>...</td>\n",
              "      <td>...</td>\n",
              "      <td>...</td>\n",
              "      <td>...</td>\n",
              "      <td>...</td>\n",
              "      <td>...</td>\n",
              "    </tr>\n",
              "    <tr>\n",
              "      <td>16708</td>\n",
              "      <td>Samurai Warriors: Sanada Maru</td>\n",
              "      <td>PS3</td>\n",
              "      <td>2016</td>\n",
              "      <td>Action</td>\n",
              "      <td>0.00</td>\n",
              "      <td>0.00</td>\n",
              "      <td>0.01</td>\n",
              "      <td>0.00</td>\n",
              "      <td>NaN</td>\n",
              "      <td>NaN</td>\n",
              "      <td>undefined</td>\n",
              "    </tr>\n",
              "    <tr>\n",
              "      <td>16709</td>\n",
              "      <td>LMA Manager 2007</td>\n",
              "      <td>X360</td>\n",
              "      <td>2006</td>\n",
              "      <td>Sports</td>\n",
              "      <td>0.00</td>\n",
              "      <td>0.01</td>\n",
              "      <td>0.00</td>\n",
              "      <td>0.00</td>\n",
              "      <td>NaN</td>\n",
              "      <td>NaN</td>\n",
              "      <td>undefined</td>\n",
              "    </tr>\n",
              "    <tr>\n",
              "      <td>16710</td>\n",
              "      <td>Haitaka no Psychedelica</td>\n",
              "      <td>PSV</td>\n",
              "      <td>2016</td>\n",
              "      <td>Adventure</td>\n",
              "      <td>0.00</td>\n",
              "      <td>0.00</td>\n",
              "      <td>0.01</td>\n",
              "      <td>0.00</td>\n",
              "      <td>NaN</td>\n",
              "      <td>NaN</td>\n",
              "      <td>undefined</td>\n",
              "    </tr>\n",
              "    <tr>\n",
              "      <td>16711</td>\n",
              "      <td>Spirits &amp; Spells</td>\n",
              "      <td>GBA</td>\n",
              "      <td>2003</td>\n",
              "      <td>Platform</td>\n",
              "      <td>0.01</td>\n",
              "      <td>0.00</td>\n",
              "      <td>0.00</td>\n",
              "      <td>0.00</td>\n",
              "      <td>NaN</td>\n",
              "      <td>NaN</td>\n",
              "      <td>undefined</td>\n",
              "    </tr>\n",
              "    <tr>\n",
              "      <td>16712</td>\n",
              "      <td>Winning Post 8 2016</td>\n",
              "      <td>PSV</td>\n",
              "      <td>2016</td>\n",
              "      <td>Simulation</td>\n",
              "      <td>0.00</td>\n",
              "      <td>0.00</td>\n",
              "      <td>0.01</td>\n",
              "      <td>0.00</td>\n",
              "      <td>NaN</td>\n",
              "      <td>NaN</td>\n",
              "      <td>undefined</td>\n",
              "    </tr>\n",
              "  </tbody>\n",
              "</table>\n",
              "<p>16713 rows × 11 columns</p>\n",
              "</div>"
            ],
            "text/plain": [
              "                                name platform  year_of_release         genre  \\\n",
              "0                         Wii Sports      Wii             2006        Sports   \n",
              "1                  Super Mario Bros.      NES             1985      Platform   \n",
              "2                     Mario Kart Wii      Wii             2008        Racing   \n",
              "3                  Wii Sports Resort      Wii             2009        Sports   \n",
              "4           Pokemon Red/Pokemon Blue       GB             1996  Role-Playing   \n",
              "...                              ...      ...              ...           ...   \n",
              "16708  Samurai Warriors: Sanada Maru      PS3             2016        Action   \n",
              "16709               LMA Manager 2007     X360             2006        Sports   \n",
              "16710        Haitaka no Psychedelica      PSV             2016     Adventure   \n",
              "16711               Spirits & Spells      GBA             2003      Platform   \n",
              "16712            Winning Post 8 2016      PSV             2016    Simulation   \n",
              "\n",
              "       na_sales  eu_sales  jp_sales  other_sales  critic_score  user_score  \\\n",
              "0         41.36     28.96      3.77         8.45          76.0         8.0   \n",
              "1         29.08      3.58      6.81         0.77           NaN         NaN   \n",
              "2         15.68     12.76      3.79         3.29          82.0         8.3   \n",
              "3         15.61     10.93      3.28         2.95          80.0         8.0   \n",
              "4         11.27      8.89     10.22         1.00           NaN         NaN   \n",
              "...         ...       ...       ...          ...           ...         ...   \n",
              "16708      0.00      0.00      0.01         0.00           NaN         NaN   \n",
              "16709      0.00      0.01      0.00         0.00           NaN         NaN   \n",
              "16710      0.00      0.00      0.01         0.00           NaN         NaN   \n",
              "16711      0.01      0.00      0.00         0.00           NaN         NaN   \n",
              "16712      0.00      0.00      0.01         0.00           NaN         NaN   \n",
              "\n",
              "          rating  \n",
              "0              E  \n",
              "1      undefined  \n",
              "2              E  \n",
              "3              E  \n",
              "4      undefined  \n",
              "...          ...  \n",
              "16708  undefined  \n",
              "16709  undefined  \n",
              "16710  undefined  \n",
              "16711  undefined  \n",
              "16712  undefined  \n",
              "\n",
              "[16713 rows x 11 columns]"
            ]
          },
          "metadata": {
            "tags": []
          },
          "execution_count": 20
        }
      ]
    },
    {
      "cell_type": "code",
      "metadata": {
        "id": "zAFGsyhCj7UB",
        "outputId": "004a9640-371c-43c9-cac6-f045912b5ef7"
      },
      "source": [
        "df.info()"
      ],
      "execution_count": null,
      "outputs": [
        {
          "output_type": "stream",
          "text": [
            "<class 'pandas.core.frame.DataFrame'>\n",
            "Int64Index: 16713 entries, 0 to 16714\n",
            "Data columns (total 11 columns):\n",
            "name               16713 non-null object\n",
            "platform           16713 non-null object\n",
            "year_of_release    16713 non-null int32\n",
            "genre              16713 non-null object\n",
            "na_sales           16713 non-null float64\n",
            "eu_sales           16713 non-null float64\n",
            "jp_sales           16713 non-null float64\n",
            "other_sales        16713 non-null float64\n",
            "critic_score       8137 non-null float64\n",
            "user_score         10014 non-null float64\n",
            "rating             16713 non-null object\n",
            "dtypes: float64(6), int32(1), object(4)\n",
            "memory usage: 1.5+ MB\n"
          ],
          "name": "stdout"
        }
      ]
    },
    {
      "cell_type": "code",
      "metadata": {
        "id": "-fsXCuBrj7UB",
        "outputId": "a585a01a-22ba-4d02-a69c-e9f19c4f81ba"
      },
      "source": [
        "df['critic_score'].isnull().sum()"
      ],
      "execution_count": null,
      "outputs": [
        {
          "output_type": "execute_result",
          "data": {
            "text/plain": [
              "8576"
            ]
          },
          "metadata": {
            "tags": []
          },
          "execution_count": 22
        }
      ]
    },
    {
      "cell_type": "code",
      "metadata": {
        "id": "6SMYoD8_j7UB",
        "outputId": "bac5bcde-a2f6-4931-93d9-e18c3bed8932"
      },
      "source": [
        "df['user_score'].isnull().sum()"
      ],
      "execution_count": null,
      "outputs": [
        {
          "output_type": "execute_result",
          "data": {
            "text/plain": [
              "6699"
            ]
          },
          "metadata": {
            "tags": []
          },
          "execution_count": 23
        }
      ]
    },
    {
      "cell_type": "markdown",
      "metadata": {
        "id": "9ajBzAT-j7UC"
      },
      "source": [
        "Заполнять пропущенные значения в столбцах 'critic_score' и 'user_score' нет смысла, поскольку это может исказить действительность. Я предполагаю, что эти зачения пропущены для игр, которые вышли в те времена, когда не существовало платформы с рейтингом, или для игр, которые прошли незаметно, которые мало кто покупал и, соответственно, некому было ставить оценку для рейтинга."
      ]
    },
    {
      "cell_type": "code",
      "metadata": {
        "id": "gHxqM_8gj7UC",
        "outputId": "7fe4f3b0-f52b-4b5a-a02c-b42e81cb42d2"
      },
      "source": [
        "report = df.isna().sum().to_frame()\n",
        "report = report.rename(columns = {0: 'missing_values'})\n",
        "report['% of total'] = (report['missing_values'] / df.shape[0]).round(2)\n",
        "report.sort_values(by = 'missing_values', ascending = False)"
      ],
      "execution_count": null,
      "outputs": [
        {
          "output_type": "execute_result",
          "data": {
            "text/html": [
              "<div>\n",
              "<style scoped>\n",
              "    .dataframe tbody tr th:only-of-type {\n",
              "        vertical-align: middle;\n",
              "    }\n",
              "\n",
              "    .dataframe tbody tr th {\n",
              "        vertical-align: top;\n",
              "    }\n",
              "\n",
              "    .dataframe thead th {\n",
              "        text-align: right;\n",
              "    }\n",
              "</style>\n",
              "<table border=\"1\" class=\"dataframe\">\n",
              "  <thead>\n",
              "    <tr style=\"text-align: right;\">\n",
              "      <th></th>\n",
              "      <th>missing_values</th>\n",
              "      <th>% of total</th>\n",
              "    </tr>\n",
              "  </thead>\n",
              "  <tbody>\n",
              "    <tr>\n",
              "      <td>critic_score</td>\n",
              "      <td>8576</td>\n",
              "      <td>0.51</td>\n",
              "    </tr>\n",
              "    <tr>\n",
              "      <td>user_score</td>\n",
              "      <td>6699</td>\n",
              "      <td>0.40</td>\n",
              "    </tr>\n",
              "    <tr>\n",
              "      <td>name</td>\n",
              "      <td>0</td>\n",
              "      <td>0.00</td>\n",
              "    </tr>\n",
              "    <tr>\n",
              "      <td>platform</td>\n",
              "      <td>0</td>\n",
              "      <td>0.00</td>\n",
              "    </tr>\n",
              "    <tr>\n",
              "      <td>year_of_release</td>\n",
              "      <td>0</td>\n",
              "      <td>0.00</td>\n",
              "    </tr>\n",
              "    <tr>\n",
              "      <td>genre</td>\n",
              "      <td>0</td>\n",
              "      <td>0.00</td>\n",
              "    </tr>\n",
              "    <tr>\n",
              "      <td>na_sales</td>\n",
              "      <td>0</td>\n",
              "      <td>0.00</td>\n",
              "    </tr>\n",
              "    <tr>\n",
              "      <td>eu_sales</td>\n",
              "      <td>0</td>\n",
              "      <td>0.00</td>\n",
              "    </tr>\n",
              "    <tr>\n",
              "      <td>jp_sales</td>\n",
              "      <td>0</td>\n",
              "      <td>0.00</td>\n",
              "    </tr>\n",
              "    <tr>\n",
              "      <td>other_sales</td>\n",
              "      <td>0</td>\n",
              "      <td>0.00</td>\n",
              "    </tr>\n",
              "    <tr>\n",
              "      <td>rating</td>\n",
              "      <td>0</td>\n",
              "      <td>0.00</td>\n",
              "    </tr>\n",
              "  </tbody>\n",
              "</table>\n",
              "</div>"
            ],
            "text/plain": [
              "                 missing_values  % of total\n",
              "critic_score               8576        0.51\n",
              "user_score                 6699        0.40\n",
              "name                          0        0.00\n",
              "platform                      0        0.00\n",
              "year_of_release               0        0.00\n",
              "genre                         0        0.00\n",
              "na_sales                      0        0.00\n",
              "eu_sales                      0        0.00\n",
              "jp_sales                      0        0.00\n",
              "other_sales                   0        0.00\n",
              "rating                        0        0.00"
            ]
          },
          "metadata": {
            "tags": []
          },
          "execution_count": 24
        }
      ]
    },
    {
      "cell_type": "markdown",
      "metadata": {
        "id": "yrWkE3NNj7UD"
      },
      "source": [
        "<div>\n",
        "    \n",
        "<b> Определение суммарных продаж во всех регионах</b>\n",
        "\n",
        "<div> "
      ]
    },
    {
      "cell_type": "code",
      "metadata": {
        "id": "J3VtIHlpj7UD"
      },
      "source": [
        "df['tot_sales'] = df['na_sales'] + df['eu_sales'] + df['jp_sales'] + df['other_sales']"
      ],
      "execution_count": null,
      "outputs": []
    },
    {
      "cell_type": "code",
      "metadata": {
        "id": "ksPxRqQRj7UD",
        "outputId": "5f2c8796-a246-473e-e178-c221df6bb2d9"
      },
      "source": [
        "df"
      ],
      "execution_count": null,
      "outputs": [
        {
          "output_type": "execute_result",
          "data": {
            "text/html": [
              "<div>\n",
              "<style scoped>\n",
              "    .dataframe tbody tr th:only-of-type {\n",
              "        vertical-align: middle;\n",
              "    }\n",
              "\n",
              "    .dataframe tbody tr th {\n",
              "        vertical-align: top;\n",
              "    }\n",
              "\n",
              "    .dataframe thead th {\n",
              "        text-align: right;\n",
              "    }\n",
              "</style>\n",
              "<table border=\"1\" class=\"dataframe\">\n",
              "  <thead>\n",
              "    <tr style=\"text-align: right;\">\n",
              "      <th></th>\n",
              "      <th>name</th>\n",
              "      <th>platform</th>\n",
              "      <th>year_of_release</th>\n",
              "      <th>genre</th>\n",
              "      <th>na_sales</th>\n",
              "      <th>eu_sales</th>\n",
              "      <th>jp_sales</th>\n",
              "      <th>other_sales</th>\n",
              "      <th>critic_score</th>\n",
              "      <th>user_score</th>\n",
              "      <th>rating</th>\n",
              "      <th>tot_sales</th>\n",
              "    </tr>\n",
              "  </thead>\n",
              "  <tbody>\n",
              "    <tr>\n",
              "      <td>0</td>\n",
              "      <td>Wii Sports</td>\n",
              "      <td>Wii</td>\n",
              "      <td>2006</td>\n",
              "      <td>Sports</td>\n",
              "      <td>41.36</td>\n",
              "      <td>28.96</td>\n",
              "      <td>3.77</td>\n",
              "      <td>8.45</td>\n",
              "      <td>76.0</td>\n",
              "      <td>8.0</td>\n",
              "      <td>E</td>\n",
              "      <td>82.54</td>\n",
              "    </tr>\n",
              "    <tr>\n",
              "      <td>1</td>\n",
              "      <td>Super Mario Bros.</td>\n",
              "      <td>NES</td>\n",
              "      <td>1985</td>\n",
              "      <td>Platform</td>\n",
              "      <td>29.08</td>\n",
              "      <td>3.58</td>\n",
              "      <td>6.81</td>\n",
              "      <td>0.77</td>\n",
              "      <td>NaN</td>\n",
              "      <td>NaN</td>\n",
              "      <td>undefined</td>\n",
              "      <td>40.24</td>\n",
              "    </tr>\n",
              "    <tr>\n",
              "      <td>2</td>\n",
              "      <td>Mario Kart Wii</td>\n",
              "      <td>Wii</td>\n",
              "      <td>2008</td>\n",
              "      <td>Racing</td>\n",
              "      <td>15.68</td>\n",
              "      <td>12.76</td>\n",
              "      <td>3.79</td>\n",
              "      <td>3.29</td>\n",
              "      <td>82.0</td>\n",
              "      <td>8.3</td>\n",
              "      <td>E</td>\n",
              "      <td>35.52</td>\n",
              "    </tr>\n",
              "    <tr>\n",
              "      <td>3</td>\n",
              "      <td>Wii Sports Resort</td>\n",
              "      <td>Wii</td>\n",
              "      <td>2009</td>\n",
              "      <td>Sports</td>\n",
              "      <td>15.61</td>\n",
              "      <td>10.93</td>\n",
              "      <td>3.28</td>\n",
              "      <td>2.95</td>\n",
              "      <td>80.0</td>\n",
              "      <td>8.0</td>\n",
              "      <td>E</td>\n",
              "      <td>32.77</td>\n",
              "    </tr>\n",
              "    <tr>\n",
              "      <td>4</td>\n",
              "      <td>Pokemon Red/Pokemon Blue</td>\n",
              "      <td>GB</td>\n",
              "      <td>1996</td>\n",
              "      <td>Role-Playing</td>\n",
              "      <td>11.27</td>\n",
              "      <td>8.89</td>\n",
              "      <td>10.22</td>\n",
              "      <td>1.00</td>\n",
              "      <td>NaN</td>\n",
              "      <td>NaN</td>\n",
              "      <td>undefined</td>\n",
              "      <td>31.38</td>\n",
              "    </tr>\n",
              "    <tr>\n",
              "      <td>...</td>\n",
              "      <td>...</td>\n",
              "      <td>...</td>\n",
              "      <td>...</td>\n",
              "      <td>...</td>\n",
              "      <td>...</td>\n",
              "      <td>...</td>\n",
              "      <td>...</td>\n",
              "      <td>...</td>\n",
              "      <td>...</td>\n",
              "      <td>...</td>\n",
              "      <td>...</td>\n",
              "      <td>...</td>\n",
              "    </tr>\n",
              "    <tr>\n",
              "      <td>16710</td>\n",
              "      <td>Samurai Warriors: Sanada Maru</td>\n",
              "      <td>PS3</td>\n",
              "      <td>2016</td>\n",
              "      <td>Action</td>\n",
              "      <td>0.00</td>\n",
              "      <td>0.00</td>\n",
              "      <td>0.01</td>\n",
              "      <td>0.00</td>\n",
              "      <td>NaN</td>\n",
              "      <td>NaN</td>\n",
              "      <td>undefined</td>\n",
              "      <td>0.01</td>\n",
              "    </tr>\n",
              "    <tr>\n",
              "      <td>16711</td>\n",
              "      <td>LMA Manager 2007</td>\n",
              "      <td>X360</td>\n",
              "      <td>2006</td>\n",
              "      <td>Sports</td>\n",
              "      <td>0.00</td>\n",
              "      <td>0.01</td>\n",
              "      <td>0.00</td>\n",
              "      <td>0.00</td>\n",
              "      <td>NaN</td>\n",
              "      <td>NaN</td>\n",
              "      <td>undefined</td>\n",
              "      <td>0.01</td>\n",
              "    </tr>\n",
              "    <tr>\n",
              "      <td>16712</td>\n",
              "      <td>Haitaka no Psychedelica</td>\n",
              "      <td>PSV</td>\n",
              "      <td>2016</td>\n",
              "      <td>Adventure</td>\n",
              "      <td>0.00</td>\n",
              "      <td>0.00</td>\n",
              "      <td>0.01</td>\n",
              "      <td>0.00</td>\n",
              "      <td>NaN</td>\n",
              "      <td>NaN</td>\n",
              "      <td>undefined</td>\n",
              "      <td>0.01</td>\n",
              "    </tr>\n",
              "    <tr>\n",
              "      <td>16713</td>\n",
              "      <td>Spirits &amp; Spells</td>\n",
              "      <td>GBA</td>\n",
              "      <td>2003</td>\n",
              "      <td>Platform</td>\n",
              "      <td>0.01</td>\n",
              "      <td>0.00</td>\n",
              "      <td>0.00</td>\n",
              "      <td>0.00</td>\n",
              "      <td>NaN</td>\n",
              "      <td>NaN</td>\n",
              "      <td>undefined</td>\n",
              "      <td>0.01</td>\n",
              "    </tr>\n",
              "    <tr>\n",
              "      <td>16714</td>\n",
              "      <td>Winning Post 8 2016</td>\n",
              "      <td>PSV</td>\n",
              "      <td>2016</td>\n",
              "      <td>Simulation</td>\n",
              "      <td>0.00</td>\n",
              "      <td>0.00</td>\n",
              "      <td>0.01</td>\n",
              "      <td>0.00</td>\n",
              "      <td>NaN</td>\n",
              "      <td>NaN</td>\n",
              "      <td>undefined</td>\n",
              "      <td>0.01</td>\n",
              "    </tr>\n",
              "  </tbody>\n",
              "</table>\n",
              "<p>16713 rows × 12 columns</p>\n",
              "</div>"
            ],
            "text/plain": [
              "                                name platform  year_of_release         genre  \\\n",
              "0                         Wii Sports      Wii             2006        Sports   \n",
              "1                  Super Mario Bros.      NES             1985      Platform   \n",
              "2                     Mario Kart Wii      Wii             2008        Racing   \n",
              "3                  Wii Sports Resort      Wii             2009        Sports   \n",
              "4           Pokemon Red/Pokemon Blue       GB             1996  Role-Playing   \n",
              "...                              ...      ...              ...           ...   \n",
              "16710  Samurai Warriors: Sanada Maru      PS3             2016        Action   \n",
              "16711               LMA Manager 2007     X360             2006        Sports   \n",
              "16712        Haitaka no Psychedelica      PSV             2016     Adventure   \n",
              "16713               Spirits & Spells      GBA             2003      Platform   \n",
              "16714            Winning Post 8 2016      PSV             2016    Simulation   \n",
              "\n",
              "       na_sales  eu_sales  jp_sales  other_sales  critic_score  user_score  \\\n",
              "0         41.36     28.96      3.77         8.45          76.0         8.0   \n",
              "1         29.08      3.58      6.81         0.77           NaN         NaN   \n",
              "2         15.68     12.76      3.79         3.29          82.0         8.3   \n",
              "3         15.61     10.93      3.28         2.95          80.0         8.0   \n",
              "4         11.27      8.89     10.22         1.00           NaN         NaN   \n",
              "...         ...       ...       ...          ...           ...         ...   \n",
              "16710      0.00      0.00      0.01         0.00           NaN         NaN   \n",
              "16711      0.00      0.01      0.00         0.00           NaN         NaN   \n",
              "16712      0.00      0.00      0.01         0.00           NaN         NaN   \n",
              "16713      0.01      0.00      0.00         0.00           NaN         NaN   \n",
              "16714      0.00      0.00      0.01         0.00           NaN         NaN   \n",
              "\n",
              "          rating  tot_sales  \n",
              "0              E      82.54  \n",
              "1      undefined      40.24  \n",
              "2              E      35.52  \n",
              "3              E      32.77  \n",
              "4      undefined      31.38  \n",
              "...          ...        ...  \n",
              "16710  undefined       0.01  \n",
              "16711  undefined       0.01  \n",
              "16712  undefined       0.01  \n",
              "16713  undefined       0.01  \n",
              "16714  undefined       0.01  \n",
              "\n",
              "[16713 rows x 12 columns]"
            ]
          },
          "metadata": {
            "tags": []
          },
          "execution_count": 26
        }
      ]
    },
    {
      "cell_type": "markdown",
      "metadata": {
        "id": "uz1iwCZBj7UE"
      },
      "source": [
        "Исследовательский анализ данных\n",
        "========"
      ]
    },
    {
      "cell_type": "markdown",
      "metadata": {
        "id": "VuOGLbgQj7UI"
      },
      "source": [
        "<div>\n",
        "    \n",
        "<b> Сколько игр выпускалось в разные годы?</b>\n",
        "\n",
        "<div> "
      ]
    },
    {
      "cell_type": "code",
      "metadata": {
        "id": "CgI9pzNWj7UJ",
        "outputId": "44d0c452-ce5d-42c2-dfba-8aef8b81f10e"
      },
      "source": [
        "df_years = (df.groupby([pd.Grouper(key='year_of_release')])\n",
        "          .agg({'name':('count')}))\n",
        "df_years"
      ],
      "execution_count": null,
      "outputs": [
        {
          "output_type": "execute_result",
          "data": {
            "text/html": [
              "<div>\n",
              "<style scoped>\n",
              "    .dataframe tbody tr th:only-of-type {\n",
              "        vertical-align: middle;\n",
              "    }\n",
              "\n",
              "    .dataframe tbody tr th {\n",
              "        vertical-align: top;\n",
              "    }\n",
              "\n",
              "    .dataframe thead th {\n",
              "        text-align: right;\n",
              "    }\n",
              "</style>\n",
              "<table border=\"1\" class=\"dataframe\">\n",
              "  <thead>\n",
              "    <tr style=\"text-align: right;\">\n",
              "      <th></th>\n",
              "      <th>name</th>\n",
              "    </tr>\n",
              "    <tr>\n",
              "      <th>year_of_release</th>\n",
              "      <th></th>\n",
              "    </tr>\n",
              "  </thead>\n",
              "  <tbody>\n",
              "    <tr>\n",
              "      <td>0</td>\n",
              "      <td>269</td>\n",
              "    </tr>\n",
              "    <tr>\n",
              "      <td>1980</td>\n",
              "      <td>9</td>\n",
              "    </tr>\n",
              "    <tr>\n",
              "      <td>1981</td>\n",
              "      <td>46</td>\n",
              "    </tr>\n",
              "    <tr>\n",
              "      <td>1982</td>\n",
              "      <td>36</td>\n",
              "    </tr>\n",
              "    <tr>\n",
              "      <td>1983</td>\n",
              "      <td>17</td>\n",
              "    </tr>\n",
              "    <tr>\n",
              "      <td>1984</td>\n",
              "      <td>14</td>\n",
              "    </tr>\n",
              "    <tr>\n",
              "      <td>1985</td>\n",
              "      <td>14</td>\n",
              "    </tr>\n",
              "    <tr>\n",
              "      <td>1986</td>\n",
              "      <td>21</td>\n",
              "    </tr>\n",
              "    <tr>\n",
              "      <td>1987</td>\n",
              "      <td>16</td>\n",
              "    </tr>\n",
              "    <tr>\n",
              "      <td>1988</td>\n",
              "      <td>15</td>\n",
              "    </tr>\n",
              "    <tr>\n",
              "      <td>1989</td>\n",
              "      <td>17</td>\n",
              "    </tr>\n",
              "    <tr>\n",
              "      <td>1990</td>\n",
              "      <td>16</td>\n",
              "    </tr>\n",
              "    <tr>\n",
              "      <td>1991</td>\n",
              "      <td>41</td>\n",
              "    </tr>\n",
              "    <tr>\n",
              "      <td>1992</td>\n",
              "      <td>43</td>\n",
              "    </tr>\n",
              "    <tr>\n",
              "      <td>1993</td>\n",
              "      <td>60</td>\n",
              "    </tr>\n",
              "    <tr>\n",
              "      <td>1994</td>\n",
              "      <td>121</td>\n",
              "    </tr>\n",
              "    <tr>\n",
              "      <td>1995</td>\n",
              "      <td>219</td>\n",
              "    </tr>\n",
              "    <tr>\n",
              "      <td>1996</td>\n",
              "      <td>263</td>\n",
              "    </tr>\n",
              "    <tr>\n",
              "      <td>1997</td>\n",
              "      <td>289</td>\n",
              "    </tr>\n",
              "    <tr>\n",
              "      <td>1998</td>\n",
              "      <td>379</td>\n",
              "    </tr>\n",
              "    <tr>\n",
              "      <td>1999</td>\n",
              "      <td>338</td>\n",
              "    </tr>\n",
              "    <tr>\n",
              "      <td>2000</td>\n",
              "      <td>350</td>\n",
              "    </tr>\n",
              "    <tr>\n",
              "      <td>2001</td>\n",
              "      <td>482</td>\n",
              "    </tr>\n",
              "    <tr>\n",
              "      <td>2002</td>\n",
              "      <td>829</td>\n",
              "    </tr>\n",
              "    <tr>\n",
              "      <td>2003</td>\n",
              "      <td>775</td>\n",
              "    </tr>\n",
              "    <tr>\n",
              "      <td>2004</td>\n",
              "      <td>762</td>\n",
              "    </tr>\n",
              "    <tr>\n",
              "      <td>2005</td>\n",
              "      <td>939</td>\n",
              "    </tr>\n",
              "    <tr>\n",
              "      <td>2006</td>\n",
              "      <td>1006</td>\n",
              "    </tr>\n",
              "    <tr>\n",
              "      <td>2007</td>\n",
              "      <td>1197</td>\n",
              "    </tr>\n",
              "    <tr>\n",
              "      <td>2008</td>\n",
              "      <td>1427</td>\n",
              "    </tr>\n",
              "    <tr>\n",
              "      <td>2009</td>\n",
              "      <td>1426</td>\n",
              "    </tr>\n",
              "    <tr>\n",
              "      <td>2010</td>\n",
              "      <td>1255</td>\n",
              "    </tr>\n",
              "    <tr>\n",
              "      <td>2011</td>\n",
              "      <td>1136</td>\n",
              "    </tr>\n",
              "    <tr>\n",
              "      <td>2012</td>\n",
              "      <td>653</td>\n",
              "    </tr>\n",
              "    <tr>\n",
              "      <td>2013</td>\n",
              "      <td>544</td>\n",
              "    </tr>\n",
              "    <tr>\n",
              "      <td>2014</td>\n",
              "      <td>581</td>\n",
              "    </tr>\n",
              "    <tr>\n",
              "      <td>2015</td>\n",
              "      <td>606</td>\n",
              "    </tr>\n",
              "    <tr>\n",
              "      <td>2016</td>\n",
              "      <td>502</td>\n",
              "    </tr>\n",
              "  </tbody>\n",
              "</table>\n",
              "</div>"
            ],
            "text/plain": [
              "                 name\n",
              "year_of_release      \n",
              "0                 269\n",
              "1980                9\n",
              "1981               46\n",
              "1982               36\n",
              "1983               17\n",
              "1984               14\n",
              "1985               14\n",
              "1986               21\n",
              "1987               16\n",
              "1988               15\n",
              "1989               17\n",
              "1990               16\n",
              "1991               41\n",
              "1992               43\n",
              "1993               60\n",
              "1994              121\n",
              "1995              219\n",
              "1996              263\n",
              "1997              289\n",
              "1998              379\n",
              "1999              338\n",
              "2000              350\n",
              "2001              482\n",
              "2002              829\n",
              "2003              775\n",
              "2004              762\n",
              "2005              939\n",
              "2006             1006\n",
              "2007             1197\n",
              "2008             1427\n",
              "2009             1426\n",
              "2010             1255\n",
              "2011             1136\n",
              "2012              653\n",
              "2013              544\n",
              "2014              581\n",
              "2015              606\n",
              "2016              502"
            ]
          },
          "metadata": {
            "tags": []
          },
          "execution_count": 27
        }
      ]
    },
    {
      "cell_type": "code",
      "metadata": {
        "id": "s4Z-5_wij7UJ"
      },
      "source": [
        "df_years['period'] = 1"
      ],
      "execution_count": null,
      "outputs": []
    },
    {
      "cell_type": "code",
      "metadata": {
        "id": "zXsKOzXXj7UK"
      },
      "source": [
        "df_years.reset_index(inplace=True)"
      ],
      "execution_count": null,
      "outputs": []
    },
    {
      "cell_type": "code",
      "metadata": {
        "id": "er3yWZmjj7UK"
      },
      "source": [
        "line = -1\n",
        "for i in df_years['year_of_release']:\n",
        "    line += 1\n",
        "    if i == 0:\n",
        "        df_years['period'][line] = 0\n",
        "    if 0 < i < 1990:\n",
        "        df_years['period'][line] = 'до 1990'\n",
        "    if 1990 <= i < 2000:\n",
        "        df_years['period'][line] = 'от 1990 до 2000'\n",
        "    if 2000 <= i < 2010:\n",
        "        df_years['period'][line] = 'от 2000 до 2010'\n",
        "    if 2010 <= i < 2020:\n",
        "        df_years['period'][line] = 'от 2010 до н.д.'"
      ],
      "execution_count": null,
      "outputs": []
    },
    {
      "cell_type": "code",
      "metadata": {
        "id": "D2Mi-lq7j7UK"
      },
      "source": [
        "del df_years['year_of_release']"
      ],
      "execution_count": null,
      "outputs": []
    },
    {
      "cell_type": "code",
      "metadata": {
        "id": "xFcril9cj7UL",
        "outputId": "7a0aaf66-85a6-4f4a-b828-3846cdb13ea9"
      },
      "source": [
        "df_years = (df_years.groupby([pd.Grouper(key='period')])\n",
        "          .agg({'name':('sum')}))\n",
        "df_years"
      ],
      "execution_count": null,
      "outputs": [
        {
          "output_type": "execute_result",
          "data": {
            "text/html": [
              "<div>\n",
              "<style scoped>\n",
              "    .dataframe tbody tr th:only-of-type {\n",
              "        vertical-align: middle;\n",
              "    }\n",
              "\n",
              "    .dataframe tbody tr th {\n",
              "        vertical-align: top;\n",
              "    }\n",
              "\n",
              "    .dataframe thead th {\n",
              "        text-align: right;\n",
              "    }\n",
              "</style>\n",
              "<table border=\"1\" class=\"dataframe\">\n",
              "  <thead>\n",
              "    <tr style=\"text-align: right;\">\n",
              "      <th></th>\n",
              "      <th>name</th>\n",
              "    </tr>\n",
              "    <tr>\n",
              "      <th>period</th>\n",
              "      <th></th>\n",
              "    </tr>\n",
              "  </thead>\n",
              "  <tbody>\n",
              "    <tr>\n",
              "      <td>0</td>\n",
              "      <td>269</td>\n",
              "    </tr>\n",
              "    <tr>\n",
              "      <td>до 1990</td>\n",
              "      <td>205</td>\n",
              "    </tr>\n",
              "    <tr>\n",
              "      <td>от 1990 до 2000</td>\n",
              "      <td>1769</td>\n",
              "    </tr>\n",
              "    <tr>\n",
              "      <td>от 2000 до 2010</td>\n",
              "      <td>9193</td>\n",
              "    </tr>\n",
              "    <tr>\n",
              "      <td>от 2010 до н.д.</td>\n",
              "      <td>5277</td>\n",
              "    </tr>\n",
              "  </tbody>\n",
              "</table>\n",
              "</div>"
            ],
            "text/plain": [
              "                 name\n",
              "period               \n",
              "0                 269\n",
              "до 1990           205\n",
              "от 1990 до 2000  1769\n",
              "от 2000 до 2010  9193\n",
              "от 2010 до н.д.  5277"
            ]
          },
          "metadata": {
            "tags": []
          },
          "execution_count": 32
        }
      ]
    },
    {
      "cell_type": "code",
      "metadata": {
        "id": "8aEnY6lxj7UL",
        "outputId": "f6de0166-649a-4f01-b9c4-c8db0af70a5f"
      },
      "source": [
        "df_years.columns = ['count']\n",
        "df_years.reset_index(inplace=True)\n",
        "df_years"
      ],
      "execution_count": null,
      "outputs": [
        {
          "output_type": "execute_result",
          "data": {
            "text/html": [
              "<div>\n",
              "<style scoped>\n",
              "    .dataframe tbody tr th:only-of-type {\n",
              "        vertical-align: middle;\n",
              "    }\n",
              "\n",
              "    .dataframe tbody tr th {\n",
              "        vertical-align: top;\n",
              "    }\n",
              "\n",
              "    .dataframe thead th {\n",
              "        text-align: right;\n",
              "    }\n",
              "</style>\n",
              "<table border=\"1\" class=\"dataframe\">\n",
              "  <thead>\n",
              "    <tr style=\"text-align: right;\">\n",
              "      <th></th>\n",
              "      <th>period</th>\n",
              "      <th>count</th>\n",
              "    </tr>\n",
              "  </thead>\n",
              "  <tbody>\n",
              "    <tr>\n",
              "      <td>0</td>\n",
              "      <td>0</td>\n",
              "      <td>269</td>\n",
              "    </tr>\n",
              "    <tr>\n",
              "      <td>1</td>\n",
              "      <td>до 1990</td>\n",
              "      <td>205</td>\n",
              "    </tr>\n",
              "    <tr>\n",
              "      <td>2</td>\n",
              "      <td>от 1990 до 2000</td>\n",
              "      <td>1769</td>\n",
              "    </tr>\n",
              "    <tr>\n",
              "      <td>3</td>\n",
              "      <td>от 2000 до 2010</td>\n",
              "      <td>9193</td>\n",
              "    </tr>\n",
              "    <tr>\n",
              "      <td>4</td>\n",
              "      <td>от 2010 до н.д.</td>\n",
              "      <td>5277</td>\n",
              "    </tr>\n",
              "  </tbody>\n",
              "</table>\n",
              "</div>"
            ],
            "text/plain": [
              "            period  count\n",
              "0                0    269\n",
              "1          до 1990    205\n",
              "2  от 1990 до 2000   1769\n",
              "3  от 2000 до 2010   9193\n",
              "4  от 2010 до н.д.   5277"
            ]
          },
          "metadata": {
            "tags": []
          },
          "execution_count": 33
        }
      ]
    },
    {
      "cell_type": "markdown",
      "metadata": {
        "id": "dym8NSSnj7UM"
      },
      "source": [
        "Как видно из таблицы, рассвет игр пришелся на период с 1990 до наших дней. При этом, до 2000 года было выпущено заметно меньше игр, чем начиная с 2000 года. Данные до 1990 года не так важны, поскольку их малое количество. Их и данные за период 0 можно отбросить. Но поскольку с 90х годов игровая индустрия сделала гигантский шаг вперед, то данные до 2000-го года нам тоже не так нужны."
      ]
    },
    {
      "cell_type": "code",
      "metadata": {
        "id": "UiGMsksxj7UM"
      },
      "source": [
        "df = df.query('year_of_release >= 2000')"
      ],
      "execution_count": null,
      "outputs": []
    },
    {
      "cell_type": "markdown",
      "metadata": {
        "id": "2KIX9smWj7UN"
      },
      "source": [
        "Убрал из исходной таблицы игры, год выпуска которых меньше 1990 года. Также убрал игры, для которых не был указан год выпуска."
      ]
    },
    {
      "cell_type": "markdown",
      "metadata": {
        "id": "paeDNXgXj7UN"
      },
      "source": [
        "<div>\n",
        "    \n",
        "<b> Как менялись продажи по платформам?</b>\n",
        "\n",
        "<div> "
      ]
    },
    {
      "cell_type": "code",
      "metadata": {
        "id": "aJApcIz8j7UO"
      },
      "source": [
        "df_platforms = (df.groupby(['platform', pd.Grouper(key='year_of_release')])\n",
        "          .agg({'tot_sales':('sum')}))"
      ],
      "execution_count": null,
      "outputs": []
    },
    {
      "cell_type": "code",
      "metadata": {
        "id": "oak4BYocj7UO",
        "outputId": "1cd7117a-4d2c-494c-a7d1-5837c5a35991"
      },
      "source": [
        "df_platforms.query('platform == \"PS\"')"
      ],
      "execution_count": null,
      "outputs": [
        {
          "output_type": "execute_result",
          "data": {
            "text/html": [
              "<div>\n",
              "<style scoped>\n",
              "    .dataframe tbody tr th:only-of-type {\n",
              "        vertical-align: middle;\n",
              "    }\n",
              "\n",
              "    .dataframe tbody tr th {\n",
              "        vertical-align: top;\n",
              "    }\n",
              "\n",
              "    .dataframe thead th {\n",
              "        text-align: right;\n",
              "    }\n",
              "</style>\n",
              "<table border=\"1\" class=\"dataframe\">\n",
              "  <thead>\n",
              "    <tr style=\"text-align: right;\">\n",
              "      <th></th>\n",
              "      <th></th>\n",
              "      <th>tot_sales</th>\n",
              "    </tr>\n",
              "    <tr>\n",
              "      <th>platform</th>\n",
              "      <th>year_of_release</th>\n",
              "      <th></th>\n",
              "    </tr>\n",
              "  </thead>\n",
              "  <tbody>\n",
              "    <tr>\n",
              "      <td rowspan=\"4\" valign=\"top\">PS</td>\n",
              "      <td>2000</td>\n",
              "      <td>96.37</td>\n",
              "    </tr>\n",
              "    <tr>\n",
              "      <td>2001</td>\n",
              "      <td>35.59</td>\n",
              "    </tr>\n",
              "    <tr>\n",
              "      <td>2002</td>\n",
              "      <td>6.67</td>\n",
              "    </tr>\n",
              "    <tr>\n",
              "      <td>2003</td>\n",
              "      <td>2.07</td>\n",
              "    </tr>\n",
              "  </tbody>\n",
              "</table>\n",
              "</div>"
            ],
            "text/plain": [
              "                          tot_sales\n",
              "platform year_of_release           \n",
              "PS       2000                 96.37\n",
              "         2001                 35.59\n",
              "         2002                  6.67\n",
              "         2003                  2.07"
            ]
          },
          "metadata": {
            "tags": []
          },
          "execution_count": 36
        }
      ]
    },
    {
      "cell_type": "code",
      "metadata": {
        "id": "B0vQ1TF2j7UP",
        "outputId": "8d8f7399-b122-4c75-c1bb-08dc50336e74"
      },
      "source": [
        "df_platforms.query('platform == \"PS2\"')"
      ],
      "execution_count": null,
      "outputs": [
        {
          "output_type": "execute_result",
          "data": {
            "text/html": [
              "<div>\n",
              "<style scoped>\n",
              "    .dataframe tbody tr th:only-of-type {\n",
              "        vertical-align: middle;\n",
              "    }\n",
              "\n",
              "    .dataframe tbody tr th {\n",
              "        vertical-align: top;\n",
              "    }\n",
              "\n",
              "    .dataframe thead th {\n",
              "        text-align: right;\n",
              "    }\n",
              "</style>\n",
              "<table border=\"1\" class=\"dataframe\">\n",
              "  <thead>\n",
              "    <tr style=\"text-align: right;\">\n",
              "      <th></th>\n",
              "      <th></th>\n",
              "      <th>tot_sales</th>\n",
              "    </tr>\n",
              "    <tr>\n",
              "      <th>platform</th>\n",
              "      <th>year_of_release</th>\n",
              "      <th></th>\n",
              "    </tr>\n",
              "  </thead>\n",
              "  <tbody>\n",
              "    <tr>\n",
              "      <td rowspan=\"12\" valign=\"top\">PS2</td>\n",
              "      <td>2000</td>\n",
              "      <td>39.17</td>\n",
              "    </tr>\n",
              "    <tr>\n",
              "      <td>2001</td>\n",
              "      <td>166.43</td>\n",
              "    </tr>\n",
              "    <tr>\n",
              "      <td>2002</td>\n",
              "      <td>205.38</td>\n",
              "    </tr>\n",
              "    <tr>\n",
              "      <td>2003</td>\n",
              "      <td>184.31</td>\n",
              "    </tr>\n",
              "    <tr>\n",
              "      <td>2004</td>\n",
              "      <td>211.81</td>\n",
              "    </tr>\n",
              "    <tr>\n",
              "      <td>2005</td>\n",
              "      <td>160.66</td>\n",
              "    </tr>\n",
              "    <tr>\n",
              "      <td>2006</td>\n",
              "      <td>103.42</td>\n",
              "    </tr>\n",
              "    <tr>\n",
              "      <td>2007</td>\n",
              "      <td>75.99</td>\n",
              "    </tr>\n",
              "    <tr>\n",
              "      <td>2008</td>\n",
              "      <td>53.90</td>\n",
              "    </tr>\n",
              "    <tr>\n",
              "      <td>2009</td>\n",
              "      <td>26.40</td>\n",
              "    </tr>\n",
              "    <tr>\n",
              "      <td>2010</td>\n",
              "      <td>5.64</td>\n",
              "    </tr>\n",
              "    <tr>\n",
              "      <td>2011</td>\n",
              "      <td>0.45</td>\n",
              "    </tr>\n",
              "  </tbody>\n",
              "</table>\n",
              "</div>"
            ],
            "text/plain": [
              "                          tot_sales\n",
              "platform year_of_release           \n",
              "PS2      2000                 39.17\n",
              "         2001                166.43\n",
              "         2002                205.38\n",
              "         2003                184.31\n",
              "         2004                211.81\n",
              "         2005                160.66\n",
              "         2006                103.42\n",
              "         2007                 75.99\n",
              "         2008                 53.90\n",
              "         2009                 26.40\n",
              "         2010                  5.64\n",
              "         2011                  0.45"
            ]
          },
          "metadata": {
            "tags": []
          },
          "execution_count": 37
        }
      ]
    },
    {
      "cell_type": "code",
      "metadata": {
        "id": "DgwV6deKj7UP",
        "outputId": "d78c01d9-de17-49ed-ffac-76a8cd2b1207"
      },
      "source": [
        "df_platforms.query('platform == \"PS3\"')"
      ],
      "execution_count": null,
      "outputs": [
        {
          "output_type": "execute_result",
          "data": {
            "text/html": [
              "<div>\n",
              "<style scoped>\n",
              "    .dataframe tbody tr th:only-of-type {\n",
              "        vertical-align: middle;\n",
              "    }\n",
              "\n",
              "    .dataframe tbody tr th {\n",
              "        vertical-align: top;\n",
              "    }\n",
              "\n",
              "    .dataframe thead th {\n",
              "        text-align: right;\n",
              "    }\n",
              "</style>\n",
              "<table border=\"1\" class=\"dataframe\">\n",
              "  <thead>\n",
              "    <tr style=\"text-align: right;\">\n",
              "      <th></th>\n",
              "      <th></th>\n",
              "      <th>tot_sales</th>\n",
              "    </tr>\n",
              "    <tr>\n",
              "      <th>platform</th>\n",
              "      <th>year_of_release</th>\n",
              "      <th></th>\n",
              "    </tr>\n",
              "  </thead>\n",
              "  <tbody>\n",
              "    <tr>\n",
              "      <td rowspan=\"11\" valign=\"top\">PS3</td>\n",
              "      <td>2006</td>\n",
              "      <td>20.96</td>\n",
              "    </tr>\n",
              "    <tr>\n",
              "      <td>2007</td>\n",
              "      <td>73.19</td>\n",
              "    </tr>\n",
              "    <tr>\n",
              "      <td>2008</td>\n",
              "      <td>118.52</td>\n",
              "    </tr>\n",
              "    <tr>\n",
              "      <td>2009</td>\n",
              "      <td>130.93</td>\n",
              "    </tr>\n",
              "    <tr>\n",
              "      <td>2010</td>\n",
              "      <td>142.17</td>\n",
              "    </tr>\n",
              "    <tr>\n",
              "      <td>2011</td>\n",
              "      <td>156.78</td>\n",
              "    </tr>\n",
              "    <tr>\n",
              "      <td>2012</td>\n",
              "      <td>107.36</td>\n",
              "    </tr>\n",
              "    <tr>\n",
              "      <td>2013</td>\n",
              "      <td>113.25</td>\n",
              "    </tr>\n",
              "    <tr>\n",
              "      <td>2014</td>\n",
              "      <td>47.76</td>\n",
              "    </tr>\n",
              "    <tr>\n",
              "      <td>2015</td>\n",
              "      <td>16.82</td>\n",
              "    </tr>\n",
              "    <tr>\n",
              "      <td>2016</td>\n",
              "      <td>3.60</td>\n",
              "    </tr>\n",
              "  </tbody>\n",
              "</table>\n",
              "</div>"
            ],
            "text/plain": [
              "                          tot_sales\n",
              "platform year_of_release           \n",
              "PS3      2006                 20.96\n",
              "         2007                 73.19\n",
              "         2008                118.52\n",
              "         2009                130.93\n",
              "         2010                142.17\n",
              "         2011                156.78\n",
              "         2012                107.36\n",
              "         2013                113.25\n",
              "         2014                 47.76\n",
              "         2015                 16.82\n",
              "         2016                  3.60"
            ]
          },
          "metadata": {
            "tags": []
          },
          "execution_count": 38
        }
      ]
    },
    {
      "cell_type": "code",
      "metadata": {
        "id": "JTUqKjuWj7UP",
        "outputId": "d1a519c1-82de-4f24-a656-5ccc104e4dfb"
      },
      "source": [
        "df_platforms.query('platform == \"PS4\"')"
      ],
      "execution_count": null,
      "outputs": [
        {
          "output_type": "execute_result",
          "data": {
            "text/html": [
              "<div>\n",
              "<style scoped>\n",
              "    .dataframe tbody tr th:only-of-type {\n",
              "        vertical-align: middle;\n",
              "    }\n",
              "\n",
              "    .dataframe tbody tr th {\n",
              "        vertical-align: top;\n",
              "    }\n",
              "\n",
              "    .dataframe thead th {\n",
              "        text-align: right;\n",
              "    }\n",
              "</style>\n",
              "<table border=\"1\" class=\"dataframe\">\n",
              "  <thead>\n",
              "    <tr style=\"text-align: right;\">\n",
              "      <th></th>\n",
              "      <th></th>\n",
              "      <th>tot_sales</th>\n",
              "    </tr>\n",
              "    <tr>\n",
              "      <th>platform</th>\n",
              "      <th>year_of_release</th>\n",
              "      <th></th>\n",
              "    </tr>\n",
              "  </thead>\n",
              "  <tbody>\n",
              "    <tr>\n",
              "      <td rowspan=\"4\" valign=\"top\">PS4</td>\n",
              "      <td>2013</td>\n",
              "      <td>25.99</td>\n",
              "    </tr>\n",
              "    <tr>\n",
              "      <td>2014</td>\n",
              "      <td>100.00</td>\n",
              "    </tr>\n",
              "    <tr>\n",
              "      <td>2015</td>\n",
              "      <td>118.90</td>\n",
              "    </tr>\n",
              "    <tr>\n",
              "      <td>2016</td>\n",
              "      <td>69.25</td>\n",
              "    </tr>\n",
              "  </tbody>\n",
              "</table>\n",
              "</div>"
            ],
            "text/plain": [
              "                          tot_sales\n",
              "platform year_of_release           \n",
              "PS4      2013                 25.99\n",
              "         2014                100.00\n",
              "         2015                118.90\n",
              "         2016                 69.25"
            ]
          },
          "metadata": {
            "tags": []
          },
          "execution_count": 39
        }
      ]
    },
    {
      "cell_type": "markdown",
      "metadata": {
        "id": "22Bq9xZXj7UQ"
      },
      "source": [
        "Для ответа на вопрос \"Как менялись продажи по платформам?\" возьмем за основу платформу PS. Как видно из среза для первой платформы этой фирмы, начиная со старта продаж (1994 год) до 1998 года каждый год продажи игр росли.В 1990 продажи упали и уже на следующий год вышла платформа PS2. Такой же принцип роста продаж игр и для следующих поколений приставки: после выхода приставка является актуальной 5 лет (в случае с PS3 - 6 лет). Затем один год продажи падают и компания выпускает новое поколение приставок. \n",
        "\n",
        "Для других популярных платформ актуальное время может отличаться."
      ]
    },
    {
      "cell_type": "code",
      "metadata": {
        "id": "8zBsD2XLj7UQ",
        "outputId": "028b6b4d-177d-46a8-c00c-66b43d48cf16"
      },
      "source": [
        "df_platforms.query('platform == \"XB\"')"
      ],
      "execution_count": null,
      "outputs": [
        {
          "output_type": "execute_result",
          "data": {
            "text/html": [
              "<div>\n",
              "<style scoped>\n",
              "    .dataframe tbody tr th:only-of-type {\n",
              "        vertical-align: middle;\n",
              "    }\n",
              "\n",
              "    .dataframe tbody tr th {\n",
              "        vertical-align: top;\n",
              "    }\n",
              "\n",
              "    .dataframe thead th {\n",
              "        text-align: right;\n",
              "    }\n",
              "</style>\n",
              "<table border=\"1\" class=\"dataframe\">\n",
              "  <thead>\n",
              "    <tr style=\"text-align: right;\">\n",
              "      <th></th>\n",
              "      <th></th>\n",
              "      <th>tot_sales</th>\n",
              "    </tr>\n",
              "    <tr>\n",
              "      <th>platform</th>\n",
              "      <th>year_of_release</th>\n",
              "      <th></th>\n",
              "    </tr>\n",
              "  </thead>\n",
              "  <tbody>\n",
              "    <tr>\n",
              "      <td rowspan=\"9\" valign=\"top\">XB</td>\n",
              "      <td>2000</td>\n",
              "      <td>0.99</td>\n",
              "    </tr>\n",
              "    <tr>\n",
              "      <td>2001</td>\n",
              "      <td>22.26</td>\n",
              "    </tr>\n",
              "    <tr>\n",
              "      <td>2002</td>\n",
              "      <td>48.01</td>\n",
              "    </tr>\n",
              "    <tr>\n",
              "      <td>2003</td>\n",
              "      <td>55.04</td>\n",
              "    </tr>\n",
              "    <tr>\n",
              "      <td>2004</td>\n",
              "      <td>65.42</td>\n",
              "    </tr>\n",
              "    <tr>\n",
              "      <td>2005</td>\n",
              "      <td>49.08</td>\n",
              "    </tr>\n",
              "    <tr>\n",
              "      <td>2006</td>\n",
              "      <td>10.04</td>\n",
              "    </tr>\n",
              "    <tr>\n",
              "      <td>2007</td>\n",
              "      <td>0.55</td>\n",
              "    </tr>\n",
              "    <tr>\n",
              "      <td>2008</td>\n",
              "      <td>0.18</td>\n",
              "    </tr>\n",
              "  </tbody>\n",
              "</table>\n",
              "</div>"
            ],
            "text/plain": [
              "                          tot_sales\n",
              "platform year_of_release           \n",
              "XB       2000                  0.99\n",
              "         2001                 22.26\n",
              "         2002                 48.01\n",
              "         2003                 55.04\n",
              "         2004                 65.42\n",
              "         2005                 49.08\n",
              "         2006                 10.04\n",
              "         2007                  0.55\n",
              "         2008                  0.18"
            ]
          },
          "metadata": {
            "tags": []
          },
          "execution_count": 40
        }
      ]
    },
    {
      "cell_type": "code",
      "metadata": {
        "id": "0iEZX3qHj7UR",
        "outputId": "d262fd31-3ea1-461e-bd16-f84c1bbb0b50"
      },
      "source": [
        "df_platforms.query('platform == \"X360\"')"
      ],
      "execution_count": null,
      "outputs": [
        {
          "output_type": "execute_result",
          "data": {
            "text/html": [
              "<div>\n",
              "<style scoped>\n",
              "    .dataframe tbody tr th:only-of-type {\n",
              "        vertical-align: middle;\n",
              "    }\n",
              "\n",
              "    .dataframe tbody tr th {\n",
              "        vertical-align: top;\n",
              "    }\n",
              "\n",
              "    .dataframe thead th {\n",
              "        text-align: right;\n",
              "    }\n",
              "</style>\n",
              "<table border=\"1\" class=\"dataframe\">\n",
              "  <thead>\n",
              "    <tr style=\"text-align: right;\">\n",
              "      <th></th>\n",
              "      <th></th>\n",
              "      <th>tot_sales</th>\n",
              "    </tr>\n",
              "    <tr>\n",
              "      <th>platform</th>\n",
              "      <th>year_of_release</th>\n",
              "      <th></th>\n",
              "    </tr>\n",
              "  </thead>\n",
              "  <tbody>\n",
              "    <tr>\n",
              "      <td rowspan=\"12\" valign=\"top\">X360</td>\n",
              "      <td>2005</td>\n",
              "      <td>8.25</td>\n",
              "    </tr>\n",
              "    <tr>\n",
              "      <td>2006</td>\n",
              "      <td>51.62</td>\n",
              "    </tr>\n",
              "    <tr>\n",
              "      <td>2007</td>\n",
              "      <td>95.41</td>\n",
              "    </tr>\n",
              "    <tr>\n",
              "      <td>2008</td>\n",
              "      <td>135.26</td>\n",
              "    </tr>\n",
              "    <tr>\n",
              "      <td>2009</td>\n",
              "      <td>120.29</td>\n",
              "    </tr>\n",
              "    <tr>\n",
              "      <td>2010</td>\n",
              "      <td>170.03</td>\n",
              "    </tr>\n",
              "    <tr>\n",
              "      <td>2011</td>\n",
              "      <td>143.84</td>\n",
              "    </tr>\n",
              "    <tr>\n",
              "      <td>2012</td>\n",
              "      <td>99.74</td>\n",
              "    </tr>\n",
              "    <tr>\n",
              "      <td>2013</td>\n",
              "      <td>88.58</td>\n",
              "    </tr>\n",
              "    <tr>\n",
              "      <td>2014</td>\n",
              "      <td>34.74</td>\n",
              "    </tr>\n",
              "    <tr>\n",
              "      <td>2015</td>\n",
              "      <td>11.96</td>\n",
              "    </tr>\n",
              "    <tr>\n",
              "      <td>2016</td>\n",
              "      <td>1.52</td>\n",
              "    </tr>\n",
              "  </tbody>\n",
              "</table>\n",
              "</div>"
            ],
            "text/plain": [
              "                          tot_sales\n",
              "platform year_of_release           \n",
              "X360     2005                  8.25\n",
              "         2006                 51.62\n",
              "         2007                 95.41\n",
              "         2008                135.26\n",
              "         2009                120.29\n",
              "         2010                170.03\n",
              "         2011                143.84\n",
              "         2012                 99.74\n",
              "         2013                 88.58\n",
              "         2014                 34.74\n",
              "         2015                 11.96\n",
              "         2016                  1.52"
            ]
          },
          "metadata": {
            "tags": []
          },
          "execution_count": 41
        }
      ]
    },
    {
      "cell_type": "code",
      "metadata": {
        "id": "IXiremiZj7UR",
        "outputId": "20068501-335b-4f2b-9234-6d101de46bed"
      },
      "source": [
        "df_platforms.query('platform == \"XOne\"')"
      ],
      "execution_count": null,
      "outputs": [
        {
          "output_type": "execute_result",
          "data": {
            "text/html": [
              "<div>\n",
              "<style scoped>\n",
              "    .dataframe tbody tr th:only-of-type {\n",
              "        vertical-align: middle;\n",
              "    }\n",
              "\n",
              "    .dataframe tbody tr th {\n",
              "        vertical-align: top;\n",
              "    }\n",
              "\n",
              "    .dataframe thead th {\n",
              "        text-align: right;\n",
              "    }\n",
              "</style>\n",
              "<table border=\"1\" class=\"dataframe\">\n",
              "  <thead>\n",
              "    <tr style=\"text-align: right;\">\n",
              "      <th></th>\n",
              "      <th></th>\n",
              "      <th>tot_sales</th>\n",
              "    </tr>\n",
              "    <tr>\n",
              "      <th>platform</th>\n",
              "      <th>year_of_release</th>\n",
              "      <th></th>\n",
              "    </tr>\n",
              "  </thead>\n",
              "  <tbody>\n",
              "    <tr>\n",
              "      <td rowspan=\"4\" valign=\"top\">XOne</td>\n",
              "      <td>2013</td>\n",
              "      <td>18.96</td>\n",
              "    </tr>\n",
              "    <tr>\n",
              "      <td>2014</td>\n",
              "      <td>54.07</td>\n",
              "    </tr>\n",
              "    <tr>\n",
              "      <td>2015</td>\n",
              "      <td>60.14</td>\n",
              "    </tr>\n",
              "    <tr>\n",
              "      <td>2016</td>\n",
              "      <td>26.15</td>\n",
              "    </tr>\n",
              "  </tbody>\n",
              "</table>\n",
              "</div>"
            ],
            "text/plain": [
              "                          tot_sales\n",
              "platform year_of_release           \n",
              "XOne     2013                 18.96\n",
              "         2014                 54.07\n",
              "         2015                 60.14\n",
              "         2016                 26.15"
            ]
          },
          "metadata": {
            "tags": []
          },
          "execution_count": 42
        }
      ]
    },
    {
      "cell_type": "markdown",
      "metadata": {
        "id": "r1yW1070j7US"
      },
      "source": [
        "Для платформы XBox назвать период актуальности сложнее, поскольку существует всего 2 поколения платформы, а так как данные предоставлены только до 2016, то XBox ONE трудно назвать период активности (за 2016 данные не полные). Но, судя по тому, что вцелом приставки похожи PS3 и XBox360,  PS3 и XBox ONE, можно предположить, что периоды активности схожи (для XBox360 видно, что период активности 6 лет)."
      ]
    },
    {
      "cell_type": "code",
      "metadata": {
        "id": "O8VXOywHj7US",
        "outputId": "53c4a538-6e22-45cf-f424-f26cb03aedc8"
      },
      "source": [
        "df['platform'].unique()"
      ],
      "execution_count": null,
      "outputs": [
        {
          "output_type": "execute_result",
          "data": {
            "text/plain": [
              "array(['Wii', 'DS', 'X360', 'PS3', 'PS2', 'GBA', 'PS4', '3DS', 'XB', 'PC',\n",
              "       'PSP', 'XOne', 'WiiU', 'GC', 'GB', 'PS', 'N64', 'PSV', 'DC', 'WS'],\n",
              "      dtype=object)"
            ]
          },
          "metadata": {
            "tags": []
          },
          "execution_count": 43
        }
      ]
    },
    {
      "cell_type": "code",
      "metadata": {
        "id": "wSny0Zhhj7UT",
        "outputId": "abe5287e-7742-4914-ef5d-2e020caa6f8d"
      },
      "source": [
        "df_platforms.query('platform == \"PC\"')"
      ],
      "execution_count": null,
      "outputs": [
        {
          "output_type": "execute_result",
          "data": {
            "text/html": [
              "<div>\n",
              "<style scoped>\n",
              "    .dataframe tbody tr th:only-of-type {\n",
              "        vertical-align: middle;\n",
              "    }\n",
              "\n",
              "    .dataframe tbody tr th {\n",
              "        vertical-align: top;\n",
              "    }\n",
              "\n",
              "    .dataframe thead th {\n",
              "        text-align: right;\n",
              "    }\n",
              "</style>\n",
              "<table border=\"1\" class=\"dataframe\">\n",
              "  <thead>\n",
              "    <tr style=\"text-align: right;\">\n",
              "      <th></th>\n",
              "      <th></th>\n",
              "      <th>tot_sales</th>\n",
              "    </tr>\n",
              "    <tr>\n",
              "      <th>platform</th>\n",
              "      <th>year_of_release</th>\n",
              "      <th></th>\n",
              "    </tr>\n",
              "  </thead>\n",
              "  <tbody>\n",
              "    <tr>\n",
              "      <td rowspan=\"17\" valign=\"top\">PC</td>\n",
              "      <td>2000</td>\n",
              "      <td>4.66</td>\n",
              "    </tr>\n",
              "    <tr>\n",
              "      <td>2001</td>\n",
              "      <td>5.47</td>\n",
              "    </tr>\n",
              "    <tr>\n",
              "      <td>2002</td>\n",
              "      <td>8.57</td>\n",
              "    </tr>\n",
              "    <tr>\n",
              "      <td>2003</td>\n",
              "      <td>8.84</td>\n",
              "    </tr>\n",
              "    <tr>\n",
              "      <td>2004</td>\n",
              "      <td>10.39</td>\n",
              "    </tr>\n",
              "    <tr>\n",
              "      <td>2005</td>\n",
              "      <td>4.37</td>\n",
              "    </tr>\n",
              "    <tr>\n",
              "      <td>2006</td>\n",
              "      <td>2.85</td>\n",
              "    </tr>\n",
              "    <tr>\n",
              "      <td>2007</td>\n",
              "      <td>9.28</td>\n",
              "    </tr>\n",
              "    <tr>\n",
              "      <td>2008</td>\n",
              "      <td>12.42</td>\n",
              "    </tr>\n",
              "    <tr>\n",
              "      <td>2009</td>\n",
              "      <td>16.91</td>\n",
              "    </tr>\n",
              "    <tr>\n",
              "      <td>2010</td>\n",
              "      <td>24.28</td>\n",
              "    </tr>\n",
              "    <tr>\n",
              "      <td>2011</td>\n",
              "      <td>35.03</td>\n",
              "    </tr>\n",
              "    <tr>\n",
              "      <td>2012</td>\n",
              "      <td>23.22</td>\n",
              "    </tr>\n",
              "    <tr>\n",
              "      <td>2013</td>\n",
              "      <td>12.38</td>\n",
              "    </tr>\n",
              "    <tr>\n",
              "      <td>2014</td>\n",
              "      <td>13.28</td>\n",
              "    </tr>\n",
              "    <tr>\n",
              "      <td>2015</td>\n",
              "      <td>8.52</td>\n",
              "    </tr>\n",
              "    <tr>\n",
              "      <td>2016</td>\n",
              "      <td>5.25</td>\n",
              "    </tr>\n",
              "  </tbody>\n",
              "</table>\n",
              "</div>"
            ],
            "text/plain": [
              "                          tot_sales\n",
              "platform year_of_release           \n",
              "PC       2000                  4.66\n",
              "         2001                  5.47\n",
              "         2002                  8.57\n",
              "         2003                  8.84\n",
              "         2004                 10.39\n",
              "         2005                  4.37\n",
              "         2006                  2.85\n",
              "         2007                  9.28\n",
              "         2008                 12.42\n",
              "         2009                 16.91\n",
              "         2010                 24.28\n",
              "         2011                 35.03\n",
              "         2012                 23.22\n",
              "         2013                 12.38\n",
              "         2014                 13.28\n",
              "         2015                  8.52\n",
              "         2016                  5.25"
            ]
          },
          "metadata": {
            "tags": []
          },
          "execution_count": 44
        }
      ]
    },
    {
      "cell_type": "markdown",
      "metadata": {
        "id": "UofS22ejj7UT"
      },
      "source": [
        "Для компьютера трудно назвать период активности. Во первых, потому что это одна платформа, которая не может стать следующего поколения (только комплектующие) и нельзя понять, когда он становится менее актуальным (хотя видны некоторые вспышки активности), по аналогии с игровыми приставками. Во вторых, среди игр на компьютере больше чем на других платформах процветает пиратство, поэтому и число покупок не такое большое, как у ps и xb."
      ]
    },
    {
      "cell_type": "code",
      "metadata": {
        "id": "NqoUYkxIj7UU",
        "outputId": "1bbe8fbf-8a46-45b8-f94d-0c1057cc8673"
      },
      "source": [
        "df_platforms.query('platform == \"Wii\"')"
      ],
      "execution_count": null,
      "outputs": [
        {
          "output_type": "execute_result",
          "data": {
            "text/html": [
              "<div>\n",
              "<style scoped>\n",
              "    .dataframe tbody tr th:only-of-type {\n",
              "        vertical-align: middle;\n",
              "    }\n",
              "\n",
              "    .dataframe tbody tr th {\n",
              "        vertical-align: top;\n",
              "    }\n",
              "\n",
              "    .dataframe thead th {\n",
              "        text-align: right;\n",
              "    }\n",
              "</style>\n",
              "<table border=\"1\" class=\"dataframe\">\n",
              "  <thead>\n",
              "    <tr style=\"text-align: right;\">\n",
              "      <th></th>\n",
              "      <th></th>\n",
              "      <th>tot_sales</th>\n",
              "    </tr>\n",
              "    <tr>\n",
              "      <th>platform</th>\n",
              "      <th>year_of_release</th>\n",
              "      <th></th>\n",
              "    </tr>\n",
              "  </thead>\n",
              "  <tbody>\n",
              "    <tr>\n",
              "      <td rowspan=\"11\" valign=\"top\">Wii</td>\n",
              "      <td>2006</td>\n",
              "      <td>137.15</td>\n",
              "    </tr>\n",
              "    <tr>\n",
              "      <td>2007</td>\n",
              "      <td>152.77</td>\n",
              "    </tr>\n",
              "    <tr>\n",
              "      <td>2008</td>\n",
              "      <td>171.32</td>\n",
              "    </tr>\n",
              "    <tr>\n",
              "      <td>2009</td>\n",
              "      <td>206.97</td>\n",
              "    </tr>\n",
              "    <tr>\n",
              "      <td>2010</td>\n",
              "      <td>127.95</td>\n",
              "    </tr>\n",
              "    <tr>\n",
              "      <td>2011</td>\n",
              "      <td>59.65</td>\n",
              "    </tr>\n",
              "    <tr>\n",
              "      <td>2012</td>\n",
              "      <td>21.71</td>\n",
              "    </tr>\n",
              "    <tr>\n",
              "      <td>2013</td>\n",
              "      <td>8.59</td>\n",
              "    </tr>\n",
              "    <tr>\n",
              "      <td>2014</td>\n",
              "      <td>3.75</td>\n",
              "    </tr>\n",
              "    <tr>\n",
              "      <td>2015</td>\n",
              "      <td>1.14</td>\n",
              "    </tr>\n",
              "    <tr>\n",
              "      <td>2016</td>\n",
              "      <td>0.18</td>\n",
              "    </tr>\n",
              "  </tbody>\n",
              "</table>\n",
              "</div>"
            ],
            "text/plain": [
              "                          tot_sales\n",
              "platform year_of_release           \n",
              "Wii      2006                137.15\n",
              "         2007                152.77\n",
              "         2008                171.32\n",
              "         2009                206.97\n",
              "         2010                127.95\n",
              "         2011                 59.65\n",
              "         2012                 21.71\n",
              "         2013                  8.59\n",
              "         2014                  3.75\n",
              "         2015                  1.14\n",
              "         2016                  0.18"
            ]
          },
          "metadata": {
            "tags": []
          },
          "execution_count": 45
        }
      ]
    },
    {
      "cell_type": "markdown",
      "metadata": {
        "id": "VYh-ItBXj7UU"
      },
      "source": [
        "Для другой популярной платформы - Wii видим, что период активности давно прошел. Опять же, он был примерно 5 лет.\n",
        "\n",
        "Всем надоело махать пультом перед телевизором."
      ]
    },
    {
      "cell_type": "code",
      "metadata": {
        "id": "XgUSrw9tj7UU",
        "outputId": "5cc5d91c-970b-427f-bb39-19ea386c14ff"
      },
      "source": [
        "df_platforms.query('platform == \"3DS\"')"
      ],
      "execution_count": null,
      "outputs": [
        {
          "output_type": "execute_result",
          "data": {
            "text/html": [
              "<div>\n",
              "<style scoped>\n",
              "    .dataframe tbody tr th:only-of-type {\n",
              "        vertical-align: middle;\n",
              "    }\n",
              "\n",
              "    .dataframe tbody tr th {\n",
              "        vertical-align: top;\n",
              "    }\n",
              "\n",
              "    .dataframe thead th {\n",
              "        text-align: right;\n",
              "    }\n",
              "</style>\n",
              "<table border=\"1\" class=\"dataframe\">\n",
              "  <thead>\n",
              "    <tr style=\"text-align: right;\">\n",
              "      <th></th>\n",
              "      <th></th>\n",
              "      <th>tot_sales</th>\n",
              "    </tr>\n",
              "    <tr>\n",
              "      <th>platform</th>\n",
              "      <th>year_of_release</th>\n",
              "      <th></th>\n",
              "    </tr>\n",
              "  </thead>\n",
              "  <tbody>\n",
              "    <tr>\n",
              "      <td rowspan=\"6\" valign=\"top\">3DS</td>\n",
              "      <td>2011</td>\n",
              "      <td>63.20</td>\n",
              "    </tr>\n",
              "    <tr>\n",
              "      <td>2012</td>\n",
              "      <td>51.36</td>\n",
              "    </tr>\n",
              "    <tr>\n",
              "      <td>2013</td>\n",
              "      <td>56.57</td>\n",
              "    </tr>\n",
              "    <tr>\n",
              "      <td>2014</td>\n",
              "      <td>43.76</td>\n",
              "    </tr>\n",
              "    <tr>\n",
              "      <td>2015</td>\n",
              "      <td>27.78</td>\n",
              "    </tr>\n",
              "    <tr>\n",
              "      <td>2016</td>\n",
              "      <td>15.14</td>\n",
              "    </tr>\n",
              "  </tbody>\n",
              "</table>\n",
              "</div>"
            ],
            "text/plain": [
              "                          tot_sales\n",
              "platform year_of_release           \n",
              "3DS      2011                 63.20\n",
              "         2012                 51.36\n",
              "         2013                 56.57\n",
              "         2014                 43.76\n",
              "         2015                 27.78\n",
              "         2016                 15.14"
            ]
          },
          "metadata": {
            "tags": []
          },
          "execution_count": 46
        }
      ]
    },
    {
      "cell_type": "code",
      "metadata": {
        "id": "uUE77eG1j7UV",
        "outputId": "fe8507b1-2814-4ee8-ae36-41f6570db81e"
      },
      "source": [
        "df_platforms.query('platform == \"DS\"')"
      ],
      "execution_count": null,
      "outputs": [
        {
          "output_type": "execute_result",
          "data": {
            "text/html": [
              "<div>\n",
              "<style scoped>\n",
              "    .dataframe tbody tr th:only-of-type {\n",
              "        vertical-align: middle;\n",
              "    }\n",
              "\n",
              "    .dataframe tbody tr th {\n",
              "        vertical-align: top;\n",
              "    }\n",
              "\n",
              "    .dataframe thead th {\n",
              "        text-align: right;\n",
              "    }\n",
              "</style>\n",
              "<table border=\"1\" class=\"dataframe\">\n",
              "  <thead>\n",
              "    <tr style=\"text-align: right;\">\n",
              "      <th></th>\n",
              "      <th></th>\n",
              "      <th>tot_sales</th>\n",
              "    </tr>\n",
              "    <tr>\n",
              "      <th>platform</th>\n",
              "      <th>year_of_release</th>\n",
              "      <th></th>\n",
              "    </tr>\n",
              "  </thead>\n",
              "  <tbody>\n",
              "    <tr>\n",
              "      <td rowspan=\"10\" valign=\"top\">DS</td>\n",
              "      <td>2004</td>\n",
              "      <td>17.27</td>\n",
              "    </tr>\n",
              "    <tr>\n",
              "      <td>2005</td>\n",
              "      <td>130.14</td>\n",
              "    </tr>\n",
              "    <tr>\n",
              "      <td>2006</td>\n",
              "      <td>119.81</td>\n",
              "    </tr>\n",
              "    <tr>\n",
              "      <td>2007</td>\n",
              "      <td>146.94</td>\n",
              "    </tr>\n",
              "    <tr>\n",
              "      <td>2008</td>\n",
              "      <td>145.31</td>\n",
              "    </tr>\n",
              "    <tr>\n",
              "      <td>2009</td>\n",
              "      <td>119.54</td>\n",
              "    </tr>\n",
              "    <tr>\n",
              "      <td>2010</td>\n",
              "      <td>85.02</td>\n",
              "    </tr>\n",
              "    <tr>\n",
              "      <td>2011</td>\n",
              "      <td>26.18</td>\n",
              "    </tr>\n",
              "    <tr>\n",
              "      <td>2012</td>\n",
              "      <td>11.01</td>\n",
              "    </tr>\n",
              "    <tr>\n",
              "      <td>2013</td>\n",
              "      <td>1.54</td>\n",
              "    </tr>\n",
              "  </tbody>\n",
              "</table>\n",
              "</div>"
            ],
            "text/plain": [
              "                          tot_sales\n",
              "platform year_of_release           \n",
              "DS       2004                 17.27\n",
              "         2005                130.14\n",
              "         2006                119.81\n",
              "         2007                146.94\n",
              "         2008                145.31\n",
              "         2009                119.54\n",
              "         2010                 85.02\n",
              "         2011                 26.18\n",
              "         2012                 11.01\n",
              "         2013                  1.54"
            ]
          },
          "metadata": {
            "tags": []
          },
          "execution_count": 47
        }
      ]
    },
    {
      "cell_type": "markdown",
      "metadata": {
        "id": "o7zeA_4Nj7UW"
      },
      "source": [
        "<div>\n",
        "    \n",
        "<b> Какую платформу выбрать для рекламной компании?</b>\n",
        "\n",
        "<div> "
      ]
    },
    {
      "cell_type": "code",
      "metadata": {
        "id": "Rux_Aq7dj7UW"
      },
      "source": [
        "df_platforms_total_new = df.query('year_of_release >= 2014')"
      ],
      "execution_count": null,
      "outputs": []
    },
    {
      "cell_type": "code",
      "metadata": {
        "id": "PD-ObOx8j7UY"
      },
      "source": [
        "df_platforms_total = (df_platforms_total_new.groupby(['platform'])\n",
        "          .agg({'tot_sales':('sum')}))"
      ],
      "execution_count": null,
      "outputs": []
    },
    {
      "cell_type": "code",
      "metadata": {
        "id": "VjVekG3vj7UZ"
      },
      "source": [
        "df_platforms_total = df_platforms_total.sort_values(by = 'tot_sales', ascending = False)\n",
        "df_platforms_total.reset_index(inplace=True)"
      ],
      "execution_count": null,
      "outputs": []
    },
    {
      "cell_type": "code",
      "metadata": {
        "id": "FrGXXNTjj7UZ",
        "outputId": "a17980f2-8de4-484e-dcc0-f9526f43fd03"
      },
      "source": [
        "df_platforms_total"
      ],
      "execution_count": null,
      "outputs": [
        {
          "output_type": "execute_result",
          "data": {
            "text/html": [
              "<div>\n",
              "<style scoped>\n",
              "    .dataframe tbody tr th:only-of-type {\n",
              "        vertical-align: middle;\n",
              "    }\n",
              "\n",
              "    .dataframe tbody tr th {\n",
              "        vertical-align: top;\n",
              "    }\n",
              "\n",
              "    .dataframe thead th {\n",
              "        text-align: right;\n",
              "    }\n",
              "</style>\n",
              "<table border=\"1\" class=\"dataframe\">\n",
              "  <thead>\n",
              "    <tr style=\"text-align: right;\">\n",
              "      <th></th>\n",
              "      <th>platform</th>\n",
              "      <th>tot_sales</th>\n",
              "    </tr>\n",
              "  </thead>\n",
              "  <tbody>\n",
              "    <tr>\n",
              "      <td>0</td>\n",
              "      <td>PS4</td>\n",
              "      <td>288.15</td>\n",
              "    </tr>\n",
              "    <tr>\n",
              "      <td>1</td>\n",
              "      <td>XOne</td>\n",
              "      <td>140.36</td>\n",
              "    </tr>\n",
              "    <tr>\n",
              "      <td>2</td>\n",
              "      <td>3DS</td>\n",
              "      <td>86.68</td>\n",
              "    </tr>\n",
              "    <tr>\n",
              "      <td>3</td>\n",
              "      <td>PS3</td>\n",
              "      <td>68.18</td>\n",
              "    </tr>\n",
              "    <tr>\n",
              "      <td>4</td>\n",
              "      <td>X360</td>\n",
              "      <td>48.22</td>\n",
              "    </tr>\n",
              "    <tr>\n",
              "      <td>5</td>\n",
              "      <td>WiiU</td>\n",
              "      <td>42.98</td>\n",
              "    </tr>\n",
              "    <tr>\n",
              "      <td>6</td>\n",
              "      <td>PC</td>\n",
              "      <td>27.05</td>\n",
              "    </tr>\n",
              "    <tr>\n",
              "      <td>7</td>\n",
              "      <td>PSV</td>\n",
              "      <td>22.40</td>\n",
              "    </tr>\n",
              "    <tr>\n",
              "      <td>8</td>\n",
              "      <td>Wii</td>\n",
              "      <td>5.07</td>\n",
              "    </tr>\n",
              "    <tr>\n",
              "      <td>9</td>\n",
              "      <td>PSP</td>\n",
              "      <td>0.36</td>\n",
              "    </tr>\n",
              "  </tbody>\n",
              "</table>\n",
              "</div>"
            ],
            "text/plain": [
              "  platform  tot_sales\n",
              "0      PS4     288.15\n",
              "1     XOne     140.36\n",
              "2      3DS      86.68\n",
              "3      PS3      68.18\n",
              "4     X360      48.22\n",
              "5     WiiU      42.98\n",
              "6       PC      27.05\n",
              "7      PSV      22.40\n",
              "8      Wii       5.07\n",
              "9      PSP       0.36"
            ]
          },
          "metadata": {
            "tags": []
          },
          "execution_count": 51
        }
      ]
    },
    {
      "cell_type": "markdown",
      "metadata": {
        "id": "11BPWsT6j7Ua"
      },
      "source": [
        "Из данной таблицы видим, что самые популярные платформы это платформы от sony и microsoft. Также популярны платформы 3DS и Wii, но их популярность идет на спад, причем очень сильно. "
      ]
    },
    {
      "cell_type": "markdown",
      "metadata": {
        "id": "_pSjPRQrj7Ua"
      },
      "source": [
        "Для получения максимальной выгоды стоит сфокусировать рекламную компанию на PS4 и XOne. Если необходимо выбрать, на какую из этих двух платформ можно сделать больший упор, я бы сказал, что на PS4, поскольку видно, что эта платформа пользуется гораздо большим спросом, нежели вторая."
      ]
    },
    {
      "cell_type": "code",
      "metadata": {
        "id": "ph7IPsO5j7Ub",
        "outputId": "7d9c0abe-9dd7-4c01-c84d-52b21f32c5ad"
      },
      "source": [
        "platform_names = df_platforms_total['platform']\n",
        "platform_names"
      ],
      "execution_count": null,
      "outputs": [
        {
          "output_type": "execute_result",
          "data": {
            "text/plain": [
              "0     PS4\n",
              "1    XOne\n",
              "2     3DS\n",
              "3     PS3\n",
              "4    X360\n",
              "5    WiiU\n",
              "6      PC\n",
              "7     PSV\n",
              "8     Wii\n",
              "9     PSP\n",
              "Name: platform, dtype: object"
            ]
          },
          "metadata": {
            "tags": []
          },
          "execution_count": 52
        }
      ]
    },
    {
      "cell_type": "code",
      "metadata": {
        "id": "QpheSE8Hj7Uc",
        "outputId": "056b5cd3-f731-4d93-c6b1-f2849c6fd1c0"
      },
      "source": [
        "df_new_platforms = df.query('platform in @platform_names')\n",
        "df_new_platforms['platform'].unique()"
      ],
      "execution_count": null,
      "outputs": [
        {
          "output_type": "execute_result",
          "data": {
            "text/plain": [
              "array(['Wii', 'X360', 'PS3', 'PS4', '3DS', 'PC', 'PSP', 'XOne', 'WiiU',\n",
              "       'PSV'], dtype=object)"
            ]
          },
          "metadata": {
            "tags": []
          },
          "execution_count": 53
        }
      ]
    },
    {
      "cell_type": "code",
      "metadata": {
        "id": "yHRWlNgHj7Uc",
        "outputId": "dc2dbaed-5ea6-4899-c9a5-cac2c44bf1a6"
      },
      "source": [
        "g = sns.catplot(data = df_new_platforms, x = 'platform', y = 'tot_sales', kind=\"box\")\n",
        "plt.ylim(0, 1.8)\n",
        "fig = plt.gcf()\n",
        "fig.set_size_inches(18, 12)\n",
        "g.set_axis_labels(\"\", \"Глобальные продажи\")\n",
        "g.fig.suptitle('Ящик с усами')\n",
        "plt.show()"
      ],
      "execution_count": null,
      "outputs": [
        {
          "output_type": "display_data",
          "data": {
            "image/png": "[encoded data removed]",
            "text/plain": [
              "<Figure size 1296x864 with 1 Axes>"
            ]
          },
          "metadata": {
            "tags": [],
            "needs_background": "light"
          }
        }
      ]
    },
    {
      "cell_type": "markdown",
      "metadata": {
        "id": "wcN4n5Syj7Ue"
      },
      "source": [
        "<div>\n",
        "    \n",
        "<b> Как влияют на продажи внутри одной платформы отзывы пользователей и критиков?</b>\n",
        "\n",
        "<div> "
      ]
    },
    {
      "cell_type": "markdown",
      "metadata": {
        "id": "pf7SuOtIj7Uf"
      },
      "source": [
        "<div>\n",
        "    \n",
        "<b> Для платформы PS4</b>\n",
        "\n",
        "<div> "
      ]
    },
    {
      "cell_type": "code",
      "metadata": {
        "id": "FHi2NN2cj7Uf"
      },
      "source": [
        "df_PS4 = df.query('platform == \"PS4\"')"
      ],
      "execution_count": null,
      "outputs": []
    },
    {
      "cell_type": "code",
      "metadata": {
        "id": "7KNI5Bhjj7Uf",
        "outputId": "f77f0882-c390-4934-b3f4-69c2147802c5"
      },
      "source": [
        "df_PS4"
      ],
      "execution_count": null,
      "outputs": [
        {
          "output_type": "execute_result",
          "data": {
            "text/html": [
              "<div>\n",
              "<style scoped>\n",
              "    .dataframe tbody tr th:only-of-type {\n",
              "        vertical-align: middle;\n",
              "    }\n",
              "\n",
              "    .dataframe tbody tr th {\n",
              "        vertical-align: top;\n",
              "    }\n",
              "\n",
              "    .dataframe thead th {\n",
              "        text-align: right;\n",
              "    }\n",
              "</style>\n",
              "<table border=\"1\" class=\"dataframe\">\n",
              "  <thead>\n",
              "    <tr style=\"text-align: right;\">\n",
              "      <th></th>\n",
              "      <th>name</th>\n",
              "      <th>platform</th>\n",
              "      <th>year_of_release</th>\n",
              "      <th>genre</th>\n",
              "      <th>na_sales</th>\n",
              "      <th>eu_sales</th>\n",
              "      <th>jp_sales</th>\n",
              "      <th>other_sales</th>\n",
              "      <th>critic_score</th>\n",
              "      <th>user_score</th>\n",
              "      <th>rating</th>\n",
              "      <th>tot_sales</th>\n",
              "    </tr>\n",
              "  </thead>\n",
              "  <tbody>\n",
              "    <tr>\n",
              "      <td>31</td>\n",
              "      <td>Call of Duty: Black Ops 3</td>\n",
              "      <td>PS4</td>\n",
              "      <td>2015</td>\n",
              "      <td>Shooter</td>\n",
              "      <td>6.03</td>\n",
              "      <td>5.86</td>\n",
              "      <td>0.36</td>\n",
              "      <td>2.38</td>\n",
              "      <td>NaN</td>\n",
              "      <td>NaN</td>\n",
              "      <td>undefined</td>\n",
              "      <td>14.63</td>\n",
              "    </tr>\n",
              "    <tr>\n",
              "      <td>42</td>\n",
              "      <td>Grand Theft Auto V</td>\n",
              "      <td>PS4</td>\n",
              "      <td>2014</td>\n",
              "      <td>Action</td>\n",
              "      <td>3.96</td>\n",
              "      <td>6.31</td>\n",
              "      <td>0.38</td>\n",
              "      <td>1.97</td>\n",
              "      <td>97.0</td>\n",
              "      <td>8.3</td>\n",
              "      <td>M</td>\n",
              "      <td>12.62</td>\n",
              "    </tr>\n",
              "    <tr>\n",
              "      <td>77</td>\n",
              "      <td>FIFA 16</td>\n",
              "      <td>PS4</td>\n",
              "      <td>2015</td>\n",
              "      <td>Sports</td>\n",
              "      <td>1.12</td>\n",
              "      <td>6.12</td>\n",
              "      <td>0.06</td>\n",
              "      <td>1.28</td>\n",
              "      <td>82.0</td>\n",
              "      <td>4.3</td>\n",
              "      <td>E</td>\n",
              "      <td>8.58</td>\n",
              "    </tr>\n",
              "    <tr>\n",
              "      <td>87</td>\n",
              "      <td>Star Wars Battlefront (2015)</td>\n",
              "      <td>PS4</td>\n",
              "      <td>2015</td>\n",
              "      <td>Shooter</td>\n",
              "      <td>2.99</td>\n",
              "      <td>3.49</td>\n",
              "      <td>0.22</td>\n",
              "      <td>1.28</td>\n",
              "      <td>NaN</td>\n",
              "      <td>NaN</td>\n",
              "      <td>undefined</td>\n",
              "      <td>7.98</td>\n",
              "    </tr>\n",
              "    <tr>\n",
              "      <td>92</td>\n",
              "      <td>Call of Duty: Advanced Warfare</td>\n",
              "      <td>PS4</td>\n",
              "      <td>2014</td>\n",
              "      <td>Shooter</td>\n",
              "      <td>2.81</td>\n",
              "      <td>3.48</td>\n",
              "      <td>0.14</td>\n",
              "      <td>1.23</td>\n",
              "      <td>83.0</td>\n",
              "      <td>5.7</td>\n",
              "      <td>M</td>\n",
              "      <td>7.66</td>\n",
              "    </tr>\n",
              "    <tr>\n",
              "      <td>...</td>\n",
              "      <td>...</td>\n",
              "      <td>...</td>\n",
              "      <td>...</td>\n",
              "      <td>...</td>\n",
              "      <td>...</td>\n",
              "      <td>...</td>\n",
              "      <td>...</td>\n",
              "      <td>...</td>\n",
              "      <td>...</td>\n",
              "      <td>...</td>\n",
              "      <td>...</td>\n",
              "      <td>...</td>\n",
              "    </tr>\n",
              "    <tr>\n",
              "      <td>16500</td>\n",
              "      <td>Root Letter</td>\n",
              "      <td>PS4</td>\n",
              "      <td>2016</td>\n",
              "      <td>Adventure</td>\n",
              "      <td>0.00</td>\n",
              "      <td>0.00</td>\n",
              "      <td>0.01</td>\n",
              "      <td>0.00</td>\n",
              "      <td>69.0</td>\n",
              "      <td>7.5</td>\n",
              "      <td>undefined</td>\n",
              "      <td>0.01</td>\n",
              "    </tr>\n",
              "    <tr>\n",
              "      <td>16503</td>\n",
              "      <td>Shin Hayarigami 2</td>\n",
              "      <td>PS4</td>\n",
              "      <td>2016</td>\n",
              "      <td>Adventure</td>\n",
              "      <td>0.00</td>\n",
              "      <td>0.00</td>\n",
              "      <td>0.01</td>\n",
              "      <td>0.00</td>\n",
              "      <td>NaN</td>\n",
              "      <td>NaN</td>\n",
              "      <td>undefined</td>\n",
              "      <td>0.01</td>\n",
              "    </tr>\n",
              "    <tr>\n",
              "      <td>16526</td>\n",
              "      <td>Dungeons 2</td>\n",
              "      <td>PS4</td>\n",
              "      <td>2016</td>\n",
              "      <td>Role-Playing</td>\n",
              "      <td>0.01</td>\n",
              "      <td>0.00</td>\n",
              "      <td>0.00</td>\n",
              "      <td>0.00</td>\n",
              "      <td>61.0</td>\n",
              "      <td>7.9</td>\n",
              "      <td>T</td>\n",
              "      <td>0.01</td>\n",
              "    </tr>\n",
              "    <tr>\n",
              "      <td>16530</td>\n",
              "      <td>Carmageddon: Max Damage</td>\n",
              "      <td>PS4</td>\n",
              "      <td>2016</td>\n",
              "      <td>Action</td>\n",
              "      <td>0.01</td>\n",
              "      <td>0.00</td>\n",
              "      <td>0.00</td>\n",
              "      <td>0.00</td>\n",
              "      <td>51.0</td>\n",
              "      <td>5.5</td>\n",
              "      <td>M</td>\n",
              "      <td>0.01</td>\n",
              "    </tr>\n",
              "    <tr>\n",
              "      <td>16585</td>\n",
              "      <td>Farming 2017 - The Simulation</td>\n",
              "      <td>PS4</td>\n",
              "      <td>2016</td>\n",
              "      <td>Simulation</td>\n",
              "      <td>0.00</td>\n",
              "      <td>0.01</td>\n",
              "      <td>0.00</td>\n",
              "      <td>0.00</td>\n",
              "      <td>NaN</td>\n",
              "      <td>NaN</td>\n",
              "      <td>undefined</td>\n",
              "      <td>0.01</td>\n",
              "    </tr>\n",
              "  </tbody>\n",
              "</table>\n",
              "<p>392 rows × 12 columns</p>\n",
              "</div>"
            ],
            "text/plain": [
              "                                 name platform  year_of_release         genre  \\\n",
              "31          Call of Duty: Black Ops 3      PS4             2015       Shooter   \n",
              "42                 Grand Theft Auto V      PS4             2014        Action   \n",
              "77                            FIFA 16      PS4             2015        Sports   \n",
              "87       Star Wars Battlefront (2015)      PS4             2015       Shooter   \n",
              "92     Call of Duty: Advanced Warfare      PS4             2014       Shooter   \n",
              "...                               ...      ...              ...           ...   \n",
              "16500                     Root Letter      PS4             2016     Adventure   \n",
              "16503               Shin Hayarigami 2      PS4             2016     Adventure   \n",
              "16526                      Dungeons 2      PS4             2016  Role-Playing   \n",
              "16530         Carmageddon: Max Damage      PS4             2016        Action   \n",
              "16585   Farming 2017 - The Simulation      PS4             2016    Simulation   \n",
              "\n",
              "       na_sales  eu_sales  jp_sales  other_sales  critic_score  user_score  \\\n",
              "31         6.03      5.86      0.36         2.38           NaN         NaN   \n",
              "42         3.96      6.31      0.38         1.97          97.0         8.3   \n",
              "77         1.12      6.12      0.06         1.28          82.0         4.3   \n",
              "87         2.99      3.49      0.22         1.28           NaN         NaN   \n",
              "92         2.81      3.48      0.14         1.23          83.0         5.7   \n",
              "...         ...       ...       ...          ...           ...         ...   \n",
              "16500      0.00      0.00      0.01         0.00          69.0         7.5   \n",
              "16503      0.00      0.00      0.01         0.00           NaN         NaN   \n",
              "16526      0.01      0.00      0.00         0.00          61.0         7.9   \n",
              "16530      0.01      0.00      0.00         0.00          51.0         5.5   \n",
              "16585      0.00      0.01      0.00         0.00           NaN         NaN   \n",
              "\n",
              "          rating  tot_sales  \n",
              "31     undefined      14.63  \n",
              "42             M      12.62  \n",
              "77             E       8.58  \n",
              "87     undefined       7.98  \n",
              "92             M       7.66  \n",
              "...          ...        ...  \n",
              "16500  undefined       0.01  \n",
              "16503  undefined       0.01  \n",
              "16526          T       0.01  \n",
              "16530          M       0.01  \n",
              "16585  undefined       0.01  \n",
              "\n",
              "[392 rows x 12 columns]"
            ]
          },
          "metadata": {
            "tags": []
          },
          "execution_count": 56
        }
      ]
    },
    {
      "cell_type": "code",
      "metadata": {
        "id": "EA4AVuOfj7Ug",
        "outputId": "2d28cd5b-e33d-4967-de6a-6053894c3f15"
      },
      "source": [
        "g1 = df_PS4.plot(x='critic_score', y='tot_sales', kind='scatter', figsize = (10, 10) )\n",
        "g1.set_title('График зависимости глобальных продаж от оценки критиков')\n",
        "g1.set_xlabel('Оценка критиков')\n",
        "g1.set_ylabel('Глобальные продажи')\n",
        "plt.show()"
      ],
      "execution_count": null,
      "outputs": [
        {
          "output_type": "display_data",
          "data": {
            "image/png": "[encoded data removed]",
            "text/plain": [
              "<Figure size 720x720 with 1 Axes>"
            ]
          },
          "metadata": {
            "tags": [],
            "needs_background": "light"
          }
        }
      ]
    },
    {
      "cell_type": "code",
      "metadata": {
        "id": "0Vcjsjrxj7Ug",
        "outputId": "a6c27441-e56c-4fd4-e8ad-d9055fea23ec"
      },
      "source": [
        "print('Корреляция для общих продаж и оценки критиков:', df_PS4['tot_sales'].corr(df_PS4['critic_score']))"
      ],
      "execution_count": null,
      "outputs": [
        {
          "output_type": "stream",
          "text": [
            "Корреляция для общих продаж и оценки критиков: 0.406567902061781\n"
          ],
          "name": "stdout"
        }
      ]
    },
    {
      "cell_type": "markdown",
      "metadata": {
        "id": "SDTS-w-Rj7Uh"
      },
      "source": [
        "Как на графике, так и в выводе функции корреляции видно, что зависимость продаж от оценки критиков не очень сильна."
      ]
    },
    {
      "cell_type": "code",
      "metadata": {
        "id": "RQP4tXIrj7Uh",
        "outputId": "f8ef1618-658e-43fb-c9de-6403a7ae40f6"
      },
      "source": [
        "g2 = df_PS4.plot(x='user_score', y='tot_sales', style=\".\", figsize = (10, 10))\n",
        "g2.set_title('График зависимости глобальных продаж от оценки игроков')\n",
        "g2.set_xlabel('Оценка игроков')\n",
        "g2.set_ylabel('Глобальные продажи')\n",
        "plt.show()"
      ],
      "execution_count": null,
      "outputs": [
        {
          "output_type": "display_data",
          "data": {
            "image/png": "[encoded data removed]",
            "text/plain": [
              "<Figure size 720x720 with 1 Axes>"
            ]
          },
          "metadata": {
            "tags": [],
            "needs_background": "light"
          }
        }
      ]
    },
    {
      "cell_type": "code",
      "metadata": {
        "id": "7w3Aq6V0j7Ui",
        "outputId": "f959acbc-391c-4ec7-f5ef-c3642efca71f"
      },
      "source": [
        "print('Корреляция для общих продаж и оценки игроков:', df_PS4['tot_sales'].corr(df_PS4['user_score']))"
      ],
      "execution_count": null,
      "outputs": [
        {
          "output_type": "stream",
          "text": [
            "Корреляция для общих продаж и оценки игроков: 0.02327930096361033\n"
          ],
          "name": "stdout"
        }
      ]
    },
    {
      "cell_type": "markdown",
      "metadata": {
        "id": "F6CMttN8j7Ui"
      },
      "source": [
        "Как на графике, так и в выводе функции корреляции видно, что зависимость продаж от оценки игроков отсутствует."
      ]
    },
    {
      "cell_type": "code",
      "metadata": {
        "id": "D3aERAP7j7Uj",
        "outputId": "05e032d3-8ced-47a2-8186-dc92273f5281"
      },
      "source": [
        "map_1 = sns.heatmap(df_PS4.corr(), annot = True, fmt = '.1g')\n",
        "map_1"
      ],
      "execution_count": null,
      "outputs": [
        {
          "output_type": "execute_result",
          "data": {
            "text/plain": [
              "<matplotlib.axes._subplots.AxesSubplot at 0x7fcad4d90e90>"
            ]
          },
          "metadata": {
            "tags": []
          },
          "execution_count": 61
        },
        {
          "output_type": "display_data",
          "data": {
            "image/png": "[encoded data removed]",
            "text/plain": [
              "<Figure size 432x288 with 2 Axes>"
            ]
          },
          "metadata": {
            "tags": [],
            "needs_background": "light"
          }
        }
      ]
    },
    {
      "cell_type": "markdown",
      "metadata": {
        "id": "Y8WQqwshj7Uj"
      },
      "source": [
        "Из тепловой карты видно, что нет зависимостей, которые могли бы быть довольно сильными и интересными нам."
      ]
    },
    {
      "cell_type": "markdown",
      "metadata": {
        "id": "WQVl_VyNj7Uk"
      },
      "source": [
        "<div>\n",
        "    \n",
        "<b> Для платформы XBOX ONE</b>\n",
        "\n",
        "<div> "
      ]
    },
    {
      "cell_type": "code",
      "metadata": {
        "id": "HlJGhrk2j7Uk"
      },
      "source": [
        "df_XOne = df.query('platform == \"XOne\"')"
      ],
      "execution_count": null,
      "outputs": []
    },
    {
      "cell_type": "code",
      "metadata": {
        "id": "4su5qcOOj7Uk",
        "outputId": "2e7d36fb-bd23-4a0b-da54-a386ec0cc8fd"
      },
      "source": [
        "g3 = df_XOne.plot(x='critic_score', y='tot_sales', kind='scatter', figsize = (10, 10)) \n",
        "g3.set_title('График зависимости глобальных продаж от оценки критиков')\n",
        "g3.set_xlabel('Оценка критиков')\n",
        "g3.set_ylabel('Глобальные продажи')\n",
        "plt.show()"
      ],
      "execution_count": null,
      "outputs": [
        {
          "output_type": "display_data",
          "data": {
            "image/png": "[encoded data removed]",
            "text/plain": [
              "<Figure size 720x720 with 1 Axes>"
            ]
          },
          "metadata": {
            "tags": [],
            "needs_background": "light"
          }
        }
      ]
    },
    {
      "cell_type": "code",
      "metadata": {
        "id": "TZKLbcHDj7Ul",
        "outputId": "1f790bc7-b417-4b92-c9ff-ed6c51cc3269"
      },
      "source": [
        "print('Корреляция для общих продаж и оценки критиков:', df_XOne['tot_sales'].corr(df_XOne['critic_score']))"
      ],
      "execution_count": null,
      "outputs": [
        {
          "output_type": "stream",
          "text": [
            "Корреляция для общих продаж и оценки критиков: 0.41699832800840175\n"
          ],
          "name": "stdout"
        }
      ]
    },
    {
      "cell_type": "markdown",
      "metadata": {
        "id": "jWRKevvxj7Ul"
      },
      "source": [
        "Как на графике, так и в выводе функции корреляции видно, что зависимость продаж от оценки критиков не очень сильна."
      ]
    },
    {
      "cell_type": "code",
      "metadata": {
        "id": "yh4e1BwPj7Ul",
        "outputId": "6e8aa218-2e5f-44d5-8b78-e5f8411bd3a7"
      },
      "source": [
        "g4 = df_XOne.plot(x='user_score', y='tot_sales', style=\".\", figsize = (10, 10)) \n",
        "g4.set_title('График зависимости глобальных продаж от оценки игроков')\n",
        "g4.set_xlabel('Оценка игроков')\n",
        "g4.set_ylabel('Глобальные продажи')\n",
        "plt.show()"
      ],
      "execution_count": null,
      "outputs": [
        {
          "output_type": "display_data",
          "data": {
            "image/png": "[encoded data removed]",
            "text/plain": [
              "<Figure size 720x720 with 1 Axes>"
            ]
          },
          "metadata": {
            "tags": [],
            "needs_background": "light"
          }
        }
      ]
    },
    {
      "cell_type": "code",
      "metadata": {
        "id": "ReBXcOQXj7Ul",
        "outputId": "186566c2-b943-4498-ba1d-533fbcafe3a3"
      },
      "source": [
        "print('Корреляция для общих продаж и оценки игроков:', df_XOne['tot_sales'].corr(df_XOne['user_score']))"
      ],
      "execution_count": null,
      "outputs": [
        {
          "output_type": "stream",
          "text": [
            "Корреляция для общих продаж и оценки игроков: 0.07448560742246758\n"
          ],
          "name": "stdout"
        }
      ]
    },
    {
      "cell_type": "markdown",
      "metadata": {
        "id": "i_gYj-xIj7Ul"
      },
      "source": [
        "Как на графике, так и в выводе функции корреляции видно, что зависимость продаж от оценки игроков отсутствует."
      ]
    },
    {
      "cell_type": "code",
      "metadata": {
        "id": "z6i0nSZ2j7Um",
        "outputId": "46debbf2-4487-4051-b2c3-98b4746c3375"
      },
      "source": [
        "map_2 = sns.heatmap(df_XOne.corr(), annot = True, fmt = '.1g')\n",
        "map_2"
      ],
      "execution_count": null,
      "outputs": [
        {
          "output_type": "execute_result",
          "data": {
            "text/plain": [
              "<matplotlib.axes._subplots.AxesSubplot at 0x7fcad4b58110>"
            ]
          },
          "metadata": {
            "tags": []
          },
          "execution_count": 67
        },
        {
          "output_type": "display_data",
          "data": {
            "image/png": "[encoded data removed]",
            "text/plain": [
              "<Figure size 432x288 with 2 Axes>"
            ]
          },
          "metadata": {
            "tags": [],
            "needs_background": "light"
          }
        }
      ]
    },
    {
      "cell_type": "markdown",
      "metadata": {
        "id": "MPqfXC-Xj7Um"
      },
      "source": [
        "Из тепловой карты видно, что нет зависимостей, которые могли бы быть довольно сильными и интересными нам."
      ]
    },
    {
      "cell_type": "markdown",
      "metadata": {
        "id": "0Jxjddguj7Un"
      },
      "source": [
        "Выводы для платформы XBOX ONE аналогичны PS4"
      ]
    },
    {
      "cell_type": "markdown",
      "metadata": {
        "id": "pzWvV5UNj7Un"
      },
      "source": [
        "<div>\n",
        "    \n",
        "<b> Вывод:</b>\n",
        "\n",
        "<div> "
      ]
    },
    {
      "cell_type": "markdown",
      "metadata": {
        "id": "yGdxlZeHj7Un"
      },
      "source": [
        "При прогнозе популярности игр не стоит ориентироваться на оценки критиков и игроков. У оценки критиков есть небольшая связь с популярностью игр, но это недостаточно, чтобы быть настоящим маркером прибыльной игры."
      ]
    },
    {
      "cell_type": "markdown",
      "metadata": {
        "id": "O56SK4xYj7Uo"
      },
      "source": [
        "<div>\n",
        "    \n",
        "<b> Какие самые прибыльные жанры? Выделяются ли жанры с высокими и низкими продажами?</b>\n",
        "\n",
        "<div> "
      ]
    },
    {
      "cell_type": "code",
      "metadata": {
        "id": "PrkeUdQfj7Uo"
      },
      "source": [
        "df_genre = (df_platforms_total_new.groupby(['genre'])\n",
        "          .agg({'tot_sales':('sum')})).sort_values(by = 'tot_sales', ascending = False)"
      ],
      "execution_count": null,
      "outputs": []
    },
    {
      "cell_type": "code",
      "metadata": {
        "id": "CprpV84Lj7Uo",
        "outputId": "d4aa57a5-ec6f-40a9-cedf-4f23f9d69289"
      },
      "source": [
        "df_genre"
      ],
      "execution_count": null,
      "outputs": [
        {
          "output_type": "execute_result",
          "data": {
            "text/html": [
              "<div>\n",
              "<style scoped>\n",
              "    .dataframe tbody tr th:only-of-type {\n",
              "        vertical-align: middle;\n",
              "    }\n",
              "\n",
              "    .dataframe tbody tr th {\n",
              "        vertical-align: top;\n",
              "    }\n",
              "\n",
              "    .dataframe thead th {\n",
              "        text-align: right;\n",
              "    }\n",
              "</style>\n",
              "<table border=\"1\" class=\"dataframe\">\n",
              "  <thead>\n",
              "    <tr style=\"text-align: right;\">\n",
              "      <th></th>\n",
              "      <th>tot_sales</th>\n",
              "    </tr>\n",
              "    <tr>\n",
              "      <th>genre</th>\n",
              "      <th></th>\n",
              "    </tr>\n",
              "  </thead>\n",
              "  <tbody>\n",
              "    <tr>\n",
              "      <td>Action</td>\n",
              "      <td>199.36</td>\n",
              "    </tr>\n",
              "    <tr>\n",
              "      <td>Shooter</td>\n",
              "      <td>170.94</td>\n",
              "    </tr>\n",
              "    <tr>\n",
              "      <td>Sports</td>\n",
              "      <td>109.48</td>\n",
              "    </tr>\n",
              "    <tr>\n",
              "      <td>Role-Playing</td>\n",
              "      <td>101.44</td>\n",
              "    </tr>\n",
              "    <tr>\n",
              "      <td>Misc</td>\n",
              "      <td>37.55</td>\n",
              "    </tr>\n",
              "    <tr>\n",
              "      <td>Fighting</td>\n",
              "      <td>28.22</td>\n",
              "    </tr>\n",
              "    <tr>\n",
              "      <td>Racing</td>\n",
              "      <td>27.52</td>\n",
              "    </tr>\n",
              "    <tr>\n",
              "      <td>Platform</td>\n",
              "      <td>18.09</td>\n",
              "    </tr>\n",
              "    <tr>\n",
              "      <td>Adventure</td>\n",
              "      <td>17.55</td>\n",
              "    </tr>\n",
              "    <tr>\n",
              "      <td>Simulation</td>\n",
              "      <td>13.13</td>\n",
              "    </tr>\n",
              "    <tr>\n",
              "      <td>Strategy</td>\n",
              "      <td>3.96</td>\n",
              "    </tr>\n",
              "    <tr>\n",
              "      <td>Puzzle</td>\n",
              "      <td>2.21</td>\n",
              "    </tr>\n",
              "  </tbody>\n",
              "</table>\n",
              "</div>"
            ],
            "text/plain": [
              "              tot_sales\n",
              "genre                  \n",
              "Action           199.36\n",
              "Shooter          170.94\n",
              "Sports           109.48\n",
              "Role-Playing     101.44\n",
              "Misc              37.55\n",
              "Fighting          28.22\n",
              "Racing            27.52\n",
              "Platform          18.09\n",
              "Adventure         17.55\n",
              "Simulation        13.13\n",
              "Strategy           3.96\n",
              "Puzzle             2.21"
            ]
          },
          "metadata": {
            "tags": []
          },
          "execution_count": 69
        }
      ]
    },
    {
      "cell_type": "markdown",
      "metadata": {
        "id": "n_2c9mUaj7Uo"
      },
      "source": [
        "Самыми прибыльными жанрами являются экшн, шутер, спорт и ролевые игры. Далее жанры начинают сильно отставать от лидеров. Стоит отметить, что жанр экшн ледирует среди жанров с очень большим отрывом.\n",
        "\n",
        "А вот вкладываться в рекламу игры жанра пазл не стоит. Топ самых не прибыльных жанров выглядит так: пазл, стратегия, приключение."
      ]
    },
    {
      "cell_type": "markdown",
      "metadata": {
        "id": "MDpH4NG6j7Up"
      },
      "source": [
        "В выводе к данному разделу можно сказать, что пока что портрет выгодной игры выглядит так: игра жанра экшн на платформе PS4."
      ]
    },
    {
      "cell_type": "markdown",
      "metadata": {
        "id": "sjO44hvFj7Up"
      },
      "source": [
        "Составление портрета пользователя каждого региона\n",
        "========"
      ]
    },
    {
      "cell_type": "markdown",
      "metadata": {
        "id": "6ns0qy73j7Up"
      },
      "source": [
        "<div>\n",
        "    \n",
        "<b> Для региона NA</b>\n",
        "\n",
        "<div> "
      ]
    },
    {
      "cell_type": "code",
      "metadata": {
        "id": "j7dNzL5Tj7Up"
      },
      "source": [
        "df_NA = df.query('year_of_release >= 2014')"
      ],
      "execution_count": null,
      "outputs": []
    },
    {
      "cell_type": "markdown",
      "metadata": {
        "id": "8cTSprPAj7Up"
      },
      "source": [
        "Взял выборку для игры, вышедших с 2014 года"
      ]
    },
    {
      "cell_type": "code",
      "metadata": {
        "id": "yUC5R_o_j7Uq"
      },
      "source": [
        "df_NA\n",
        "del df_NA['eu_sales']\n",
        "del df_NA['jp_sales']\n",
        "del df_NA['other_sales']\n",
        "del df_NA['tot_sales']"
      ],
      "execution_count": null,
      "outputs": []
    },
    {
      "cell_type": "code",
      "metadata": {
        "id": "KZsL0JNnj7Uq"
      },
      "source": [
        "df_NA_platforms = (df_NA.groupby(['platform'])\n",
        "          .agg({'na_sales':('sum')})).sort_values(by = 'na_sales', ascending = False)"
      ],
      "execution_count": null,
      "outputs": []
    },
    {
      "cell_type": "code",
      "metadata": {
        "id": "nFR12ZZoj7Ur",
        "outputId": "9d1c0383-992f-4e08-ea6c-be798c5d223b"
      },
      "source": [
        "df_NA_platforms"
      ],
      "execution_count": null,
      "outputs": [
        {
          "output_type": "execute_result",
          "data": {
            "text/html": [
              "<div>\n",
              "<style scoped>\n",
              "    .dataframe tbody tr th:only-of-type {\n",
              "        vertical-align: middle;\n",
              "    }\n",
              "\n",
              "    .dataframe tbody tr th {\n",
              "        vertical-align: top;\n",
              "    }\n",
              "\n",
              "    .dataframe thead th {\n",
              "        text-align: right;\n",
              "    }\n",
              "</style>\n",
              "<table border=\"1\" class=\"dataframe\">\n",
              "  <thead>\n",
              "    <tr style=\"text-align: right;\">\n",
              "      <th></th>\n",
              "      <th>na_sales</th>\n",
              "    </tr>\n",
              "    <tr>\n",
              "      <th>platform</th>\n",
              "      <th></th>\n",
              "    </tr>\n",
              "  </thead>\n",
              "  <tbody>\n",
              "    <tr>\n",
              "      <td>PS4</td>\n",
              "      <td>98.61</td>\n",
              "    </tr>\n",
              "    <tr>\n",
              "      <td>XOne</td>\n",
              "      <td>81.27</td>\n",
              "    </tr>\n",
              "    <tr>\n",
              "      <td>X360</td>\n",
              "      <td>28.30</td>\n",
              "    </tr>\n",
              "    <tr>\n",
              "      <td>3DS</td>\n",
              "      <td>22.64</td>\n",
              "    </tr>\n",
              "    <tr>\n",
              "      <td>PS3</td>\n",
              "      <td>22.05</td>\n",
              "    </tr>\n",
              "    <tr>\n",
              "      <td>WiiU</td>\n",
              "      <td>19.36</td>\n",
              "    </tr>\n",
              "    <tr>\n",
              "      <td>PC</td>\n",
              "      <td>7.23</td>\n",
              "    </tr>\n",
              "    <tr>\n",
              "      <td>PSV</td>\n",
              "      <td>2.52</td>\n",
              "    </tr>\n",
              "    <tr>\n",
              "      <td>Wii</td>\n",
              "      <td>2.08</td>\n",
              "    </tr>\n",
              "    <tr>\n",
              "      <td>PSP</td>\n",
              "      <td>0.00</td>\n",
              "    </tr>\n",
              "  </tbody>\n",
              "</table>\n",
              "</div>"
            ],
            "text/plain": [
              "          na_sales\n",
              "platform          \n",
              "PS4          98.61\n",
              "XOne         81.27\n",
              "X360         28.30\n",
              "3DS          22.64\n",
              "PS3          22.05\n",
              "WiiU         19.36\n",
              "PC            7.23\n",
              "PSV           2.52\n",
              "Wii           2.08\n",
              "PSP           0.00"
            ]
          },
          "metadata": {
            "tags": []
          },
          "execution_count": 73
        }
      ]
    },
    {
      "cell_type": "markdown",
      "metadata": {
        "id": "gjE_GbTMj7Ur"
      },
      "source": [
        "С 2014 года лидерами являются ps4 и xbox one."
      ]
    },
    {
      "cell_type": "markdown",
      "metadata": {
        "id": "7D4_kFxGj7Us"
      },
      "source": [
        "<div class=\"alert alert-success\">\n",
        "<h2> Комментарий ревьюера: вторая итерация ревью <a class=\"tocSkip\"> </h2>\n",
        "\n",
        "<b>Все отлично!👍:</b> \n",
        "    \n",
        "Да, теперь все верно!"
      ]
    },
    {
      "cell_type": "code",
      "metadata": {
        "id": "ie_24uKQj7Us"
      },
      "source": [
        "df_NA_genre = (df_NA.groupby(['genre'])\n",
        "          .agg({'na_sales':('sum')})).sort_values(by = 'na_sales', ascending = False)"
      ],
      "execution_count": null,
      "outputs": []
    },
    {
      "cell_type": "code",
      "metadata": {
        "id": "GbQ46Imuj7Us",
        "outputId": "e424e496-5af7-4ffc-cf2b-4f3520672ff3"
      },
      "source": [
        "df_NA_genre"
      ],
      "execution_count": null,
      "outputs": [
        {
          "output_type": "execute_result",
          "data": {
            "text/html": [
              "<div>\n",
              "<style scoped>\n",
              "    .dataframe tbody tr th:only-of-type {\n",
              "        vertical-align: middle;\n",
              "    }\n",
              "\n",
              "    .dataframe tbody tr th {\n",
              "        vertical-align: top;\n",
              "    }\n",
              "\n",
              "    .dataframe thead th {\n",
              "        text-align: right;\n",
              "    }\n",
              "</style>\n",
              "<table border=\"1\" class=\"dataframe\">\n",
              "  <thead>\n",
              "    <tr style=\"text-align: right;\">\n",
              "      <th></th>\n",
              "      <th>na_sales</th>\n",
              "    </tr>\n",
              "    <tr>\n",
              "      <th>genre</th>\n",
              "      <th></th>\n",
              "    </tr>\n",
              "  </thead>\n",
              "  <tbody>\n",
              "    <tr>\n",
              "      <td>Shooter</td>\n",
              "      <td>79.02</td>\n",
              "    </tr>\n",
              "    <tr>\n",
              "      <td>Action</td>\n",
              "      <td>72.53</td>\n",
              "    </tr>\n",
              "    <tr>\n",
              "      <td>Sports</td>\n",
              "      <td>46.13</td>\n",
              "    </tr>\n",
              "    <tr>\n",
              "      <td>Role-Playing</td>\n",
              "      <td>33.47</td>\n",
              "    </tr>\n",
              "    <tr>\n",
              "      <td>Misc</td>\n",
              "      <td>15.05</td>\n",
              "    </tr>\n",
              "    <tr>\n",
              "      <td>Fighting</td>\n",
              "      <td>12.43</td>\n",
              "    </tr>\n",
              "    <tr>\n",
              "      <td>Racing</td>\n",
              "      <td>8.74</td>\n",
              "    </tr>\n",
              "    <tr>\n",
              "      <td>Platform</td>\n",
              "      <td>6.79</td>\n",
              "    </tr>\n",
              "    <tr>\n",
              "      <td>Adventure</td>\n",
              "      <td>5.64</td>\n",
              "    </tr>\n",
              "    <tr>\n",
              "      <td>Simulation</td>\n",
              "      <td>2.63</td>\n",
              "    </tr>\n",
              "    <tr>\n",
              "      <td>Strategy</td>\n",
              "      <td>0.98</td>\n",
              "    </tr>\n",
              "    <tr>\n",
              "      <td>Puzzle</td>\n",
              "      <td>0.65</td>\n",
              "    </tr>\n",
              "  </tbody>\n",
              "</table>\n",
              "</div>"
            ],
            "text/plain": [
              "              na_sales\n",
              "genre                 \n",
              "Shooter          79.02\n",
              "Action           72.53\n",
              "Sports           46.13\n",
              "Role-Playing     33.47\n",
              "Misc             15.05\n",
              "Fighting         12.43\n",
              "Racing            8.74\n",
              "Platform          6.79\n",
              "Adventure         5.64\n",
              "Simulation        2.63\n",
              "Strategy          0.98\n",
              "Puzzle            0.65"
            ]
          },
          "metadata": {
            "tags": []
          },
          "execution_count": 75
        }
      ]
    },
    {
      "cell_type": "markdown",
      "metadata": {
        "id": "cbFaB3Hcj7Us"
      },
      "source": [
        "Тройка лидеров не меняется: экшн, шутер, спорт."
      ]
    },
    {
      "cell_type": "code",
      "metadata": {
        "id": "iAwm-jq1j7Ut"
      },
      "source": [
        "df_NA_rating = (df_NA.groupby(['rating'])\n",
        "          .agg({'na_sales':('sum')})).sort_values(by = 'na_sales', ascending = False)"
      ],
      "execution_count": null,
      "outputs": []
    },
    {
      "cell_type": "code",
      "metadata": {
        "id": "ywXB3TUsj7Ut",
        "outputId": "de66a347-5063-4190-e57f-6a0c860d8c82"
      },
      "source": [
        "df_NA_rating"
      ],
      "execution_count": null,
      "outputs": [
        {
          "output_type": "execute_result",
          "data": {
            "text/html": [
              "<div>\n",
              "<style scoped>\n",
              "    .dataframe tbody tr th:only-of-type {\n",
              "        vertical-align: middle;\n",
              "    }\n",
              "\n",
              "    .dataframe tbody tr th {\n",
              "        vertical-align: top;\n",
              "    }\n",
              "\n",
              "    .dataframe thead th {\n",
              "        text-align: right;\n",
              "    }\n",
              "</style>\n",
              "<table border=\"1\" class=\"dataframe\">\n",
              "  <thead>\n",
              "    <tr style=\"text-align: right;\">\n",
              "      <th></th>\n",
              "      <th>na_sales</th>\n",
              "    </tr>\n",
              "    <tr>\n",
              "      <th>rating</th>\n",
              "      <th></th>\n",
              "    </tr>\n",
              "  </thead>\n",
              "  <tbody>\n",
              "    <tr>\n",
              "      <td>M</td>\n",
              "      <td>96.42</td>\n",
              "    </tr>\n",
              "    <tr>\n",
              "      <td>undefined</td>\n",
              "      <td>64.72</td>\n",
              "    </tr>\n",
              "    <tr>\n",
              "      <td>E</td>\n",
              "      <td>50.74</td>\n",
              "    </tr>\n",
              "    <tr>\n",
              "      <td>T</td>\n",
              "      <td>38.95</td>\n",
              "    </tr>\n",
              "    <tr>\n",
              "      <td>E10+</td>\n",
              "      <td>33.23</td>\n",
              "    </tr>\n",
              "  </tbody>\n",
              "</table>\n",
              "</div>"
            ],
            "text/plain": [
              "           na_sales\n",
              "rating             \n",
              "M             96.42\n",
              "undefined     64.72\n",
              "E             50.74\n",
              "T             38.95\n",
              "E10+          33.23"
            ]
          },
          "metadata": {
            "tags": []
          },
          "execution_count": 77
        }
      ]
    },
    {
      "cell_type": "markdown",
      "metadata": {
        "id": "VeP-wX-vj7Ut"
      },
      "source": [
        "Для региона NA самыми популярными игры являются игры с рейтингом M и E.\n",
        "\n",
        "UPD: Игры с неопределенным рейтингом занимают второе место по популярности."
      ]
    },
    {
      "cell_type": "markdown",
      "metadata": {
        "id": "11m65WcEj7Uu"
      },
      "source": [
        "Портрет пользователя в америке выглядит так: играет на платформе PS4 или XBOX ONE в экшн (или в шутеры, или в спортивные игры). Игры при этом рейтинга M или E (или рейтинг игры не определен)."
      ]
    },
    {
      "cell_type": "markdown",
      "metadata": {
        "id": "HhXM6mX8j7Uu"
      },
      "source": [
        "<div>\n",
        "    \n",
        "<b> Для региона EU</b>\n",
        "\n",
        "<div> "
      ]
    },
    {
      "cell_type": "code",
      "metadata": {
        "id": "8gXHVAyMj7Uv"
      },
      "source": [
        "df_EU = df.query('year_of_release >= 2014')"
      ],
      "execution_count": null,
      "outputs": []
    },
    {
      "cell_type": "code",
      "metadata": {
        "id": "Y2ThW7UBj7Uv"
      },
      "source": [
        "del df_EU['na_sales']\n",
        "del df_EU['jp_sales']\n",
        "del df_EU['other_sales']\n",
        "del df_EU['tot_sales']"
      ],
      "execution_count": null,
      "outputs": []
    },
    {
      "cell_type": "code",
      "metadata": {
        "id": "yr-Vt3wzj7Uv"
      },
      "source": [
        "df_EU_platforms = (df_EU.groupby(['platform'])\n",
        "          .agg({'eu_sales':('sum')})).sort_values(by = 'eu_sales', ascending = False)"
      ],
      "execution_count": null,
      "outputs": []
    },
    {
      "cell_type": "code",
      "metadata": {
        "id": "xGYyUIKgj7Uv",
        "outputId": "2a24b3d7-c548-4e26-b8fe-450243eae9fc"
      },
      "source": [
        "df_EU_platforms"
      ],
      "execution_count": null,
      "outputs": [
        {
          "output_type": "execute_result",
          "data": {
            "text/html": [
              "<div>\n",
              "<style scoped>\n",
              "    .dataframe tbody tr th:only-of-type {\n",
              "        vertical-align: middle;\n",
              "    }\n",
              "\n",
              "    .dataframe tbody tr th {\n",
              "        vertical-align: top;\n",
              "    }\n",
              "\n",
              "    .dataframe thead th {\n",
              "        text-align: right;\n",
              "    }\n",
              "</style>\n",
              "<table border=\"1\" class=\"dataframe\">\n",
              "  <thead>\n",
              "    <tr style=\"text-align: right;\">\n",
              "      <th></th>\n",
              "      <th>eu_sales</th>\n",
              "    </tr>\n",
              "    <tr>\n",
              "      <th>platform</th>\n",
              "      <th></th>\n",
              "    </tr>\n",
              "  </thead>\n",
              "  <tbody>\n",
              "    <tr>\n",
              "      <td>PS4</td>\n",
              "      <td>130.04</td>\n",
              "    </tr>\n",
              "    <tr>\n",
              "      <td>XOne</td>\n",
              "      <td>46.25</td>\n",
              "    </tr>\n",
              "    <tr>\n",
              "      <td>PS3</td>\n",
              "      <td>25.54</td>\n",
              "    </tr>\n",
              "    <tr>\n",
              "      <td>PC</td>\n",
              "      <td>17.97</td>\n",
              "    </tr>\n",
              "    <tr>\n",
              "      <td>3DS</td>\n",
              "      <td>16.12</td>\n",
              "    </tr>\n",
              "    <tr>\n",
              "      <td>X360</td>\n",
              "      <td>15.49</td>\n",
              "    </tr>\n",
              "    <tr>\n",
              "      <td>WiiU</td>\n",
              "      <td>13.15</td>\n",
              "    </tr>\n",
              "    <tr>\n",
              "      <td>PSV</td>\n",
              "      <td>3.53</td>\n",
              "    </tr>\n",
              "    <tr>\n",
              "      <td>Wii</td>\n",
              "      <td>2.59</td>\n",
              "    </tr>\n",
              "    <tr>\n",
              "      <td>PSP</td>\n",
              "      <td>0.00</td>\n",
              "    </tr>\n",
              "  </tbody>\n",
              "</table>\n",
              "</div>"
            ],
            "text/plain": [
              "          eu_sales\n",
              "platform          \n",
              "PS4         130.04\n",
              "XOne         46.25\n",
              "PS3          25.54\n",
              "PC           17.97\n",
              "3DS          16.12\n",
              "X360         15.49\n",
              "WiiU         13.15\n",
              "PSV           3.53\n",
              "Wii           2.59\n",
              "PSP           0.00"
            ]
          },
          "metadata": {
            "tags": []
          },
          "execution_count": 81
        }
      ]
    },
    {
      "cell_type": "markdown",
      "metadata": {
        "id": "JdG6DWK6j7Uv"
      },
      "source": [
        "Для европы самыми прибыльными платформами являются PS4, PC и XBOX ONE. PS3 не берем в расчет, потому что эта консоль сильно теряет популярность."
      ]
    },
    {
      "cell_type": "code",
      "metadata": {
        "id": "YgJOLagKj7Uv"
      },
      "source": [
        "df_EU_genre = (df_EU.groupby(['genre'])\n",
        "          .agg({'eu_sales':('sum')})).sort_values(by = 'eu_sales', ascending = False)"
      ],
      "execution_count": null,
      "outputs": []
    },
    {
      "cell_type": "code",
      "metadata": {
        "id": "AJ7PhQ5Hj7Uw",
        "outputId": "f61aadc6-7cb0-4d88-e4f8-3b1faec39e73"
      },
      "source": [
        "df_EU_genre"
      ],
      "execution_count": null,
      "outputs": [
        {
          "output_type": "execute_result",
          "data": {
            "text/html": [
              "<div>\n",
              "<style scoped>\n",
              "    .dataframe tbody tr th:only-of-type {\n",
              "        vertical-align: middle;\n",
              "    }\n",
              "\n",
              "    .dataframe tbody tr th {\n",
              "        vertical-align: top;\n",
              "    }\n",
              "\n",
              "    .dataframe thead th {\n",
              "        text-align: right;\n",
              "    }\n",
              "</style>\n",
              "<table border=\"1\" class=\"dataframe\">\n",
              "  <thead>\n",
              "    <tr style=\"text-align: right;\">\n",
              "      <th></th>\n",
              "      <th>eu_sales</th>\n",
              "    </tr>\n",
              "    <tr>\n",
              "      <th>genre</th>\n",
              "      <th></th>\n",
              "    </tr>\n",
              "  </thead>\n",
              "  <tbody>\n",
              "    <tr>\n",
              "      <td>Action</td>\n",
              "      <td>74.68</td>\n",
              "    </tr>\n",
              "    <tr>\n",
              "      <td>Shooter</td>\n",
              "      <td>65.52</td>\n",
              "    </tr>\n",
              "    <tr>\n",
              "      <td>Sports</td>\n",
              "      <td>45.73</td>\n",
              "    </tr>\n",
              "    <tr>\n",
              "      <td>Role-Playing</td>\n",
              "      <td>28.17</td>\n",
              "    </tr>\n",
              "    <tr>\n",
              "      <td>Racing</td>\n",
              "      <td>14.13</td>\n",
              "    </tr>\n",
              "    <tr>\n",
              "      <td>Misc</td>\n",
              "      <td>12.86</td>\n",
              "    </tr>\n",
              "    <tr>\n",
              "      <td>Simulation</td>\n",
              "      <td>7.30</td>\n",
              "    </tr>\n",
              "    <tr>\n",
              "      <td>Platform</td>\n",
              "      <td>6.80</td>\n",
              "    </tr>\n",
              "    <tr>\n",
              "      <td>Fighting</td>\n",
              "      <td>6.69</td>\n",
              "    </tr>\n",
              "    <tr>\n",
              "      <td>Adventure</td>\n",
              "      <td>6.49</td>\n",
              "    </tr>\n",
              "    <tr>\n",
              "      <td>Strategy</td>\n",
              "      <td>1.79</td>\n",
              "    </tr>\n",
              "    <tr>\n",
              "      <td>Puzzle</td>\n",
              "      <td>0.52</td>\n",
              "    </tr>\n",
              "  </tbody>\n",
              "</table>\n",
              "</div>"
            ],
            "text/plain": [
              "              eu_sales\n",
              "genre                 \n",
              "Action           74.68\n",
              "Shooter          65.52\n",
              "Sports           45.73\n",
              "Role-Playing     28.17\n",
              "Racing           14.13\n",
              "Misc             12.86\n",
              "Simulation        7.30\n",
              "Platform          6.80\n",
              "Fighting          6.69\n",
              "Adventure         6.49\n",
              "Strategy          1.79\n",
              "Puzzle            0.52"
            ]
          },
          "metadata": {
            "tags": []
          },
          "execution_count": 83
        }
      ]
    },
    {
      "cell_type": "markdown",
      "metadata": {
        "id": "MYbv189Uj7Uw"
      },
      "source": [
        "Тройка самых популярных жанров остается прежней: экшн, шутер и спорт."
      ]
    },
    {
      "cell_type": "code",
      "metadata": {
        "id": "67RttxIlj7Uw"
      },
      "source": [
        "df_EU_rating = (df_EU.groupby(['rating'])\n",
        "          .agg({'eu_sales':('sum')})).sort_values(by = 'eu_sales', ascending = False)"
      ],
      "execution_count": null,
      "outputs": []
    },
    {
      "cell_type": "code",
      "metadata": {
        "id": "UuqqW8cgj7Uw",
        "outputId": "e9b57bbc-6e9f-4190-af06-206cb981abc5"
      },
      "source": [
        "df_EU_rating"
      ],
      "execution_count": null,
      "outputs": [
        {
          "output_type": "execute_result",
          "data": {
            "text/html": [
              "<div>\n",
              "<style scoped>\n",
              "    .dataframe tbody tr th:only-of-type {\n",
              "        vertical-align: middle;\n",
              "    }\n",
              "\n",
              "    .dataframe tbody tr th {\n",
              "        vertical-align: top;\n",
              "    }\n",
              "\n",
              "    .dataframe thead th {\n",
              "        text-align: right;\n",
              "    }\n",
              "</style>\n",
              "<table border=\"1\" class=\"dataframe\">\n",
              "  <thead>\n",
              "    <tr style=\"text-align: right;\">\n",
              "      <th></th>\n",
              "      <th>eu_sales</th>\n",
              "    </tr>\n",
              "    <tr>\n",
              "      <th>rating</th>\n",
              "      <th></th>\n",
              "    </tr>\n",
              "  </thead>\n",
              "  <tbody>\n",
              "    <tr>\n",
              "      <td>M</td>\n",
              "      <td>93.44</td>\n",
              "    </tr>\n",
              "    <tr>\n",
              "      <td>undefined</td>\n",
              "      <td>58.95</td>\n",
              "    </tr>\n",
              "    <tr>\n",
              "      <td>E</td>\n",
              "      <td>58.06</td>\n",
              "    </tr>\n",
              "    <tr>\n",
              "      <td>T</td>\n",
              "      <td>34.07</td>\n",
              "    </tr>\n",
              "    <tr>\n",
              "      <td>E10+</td>\n",
              "      <td>26.16</td>\n",
              "    </tr>\n",
              "  </tbody>\n",
              "</table>\n",
              "</div>"
            ],
            "text/plain": [
              "           eu_sales\n",
              "rating             \n",
              "M             93.44\n",
              "undefined     58.95\n",
              "E             58.06\n",
              "T             34.07\n",
              "E10+          26.16"
            ]
          },
          "metadata": {
            "tags": []
          },
          "execution_count": 85
        }
      ]
    },
    {
      "cell_type": "markdown",
      "metadata": {
        "id": "wgY4kHYBj7Uw"
      },
      "source": [
        "Самые популярные игры всё с тем же рейтингом, что и в америке"
      ]
    },
    {
      "cell_type": "markdown",
      "metadata": {
        "id": "hHF0sxWLj7Ux"
      },
      "source": [
        "Портрет пользователя в европе выглядит так: играет на платформе PS4, РС или XBOX ONE в экшн (или в шутеры, или в спортивные игры). Игры при этом рейтинга M или E (или рейтинг игры не пределен)."
      ]
    },
    {
      "cell_type": "markdown",
      "metadata": {
        "id": "tPuT-4kej7Ux"
      },
      "source": [
        "<div>\n",
        "    \n",
        "<b> Для региона JP</b>\n",
        "\n",
        "<div> "
      ]
    },
    {
      "cell_type": "code",
      "metadata": {
        "id": "jtIPmhSKj7Ux"
      },
      "source": [
        "df_JP = df.query('year_of_release >= 2014')"
      ],
      "execution_count": null,
      "outputs": []
    },
    {
      "cell_type": "code",
      "metadata": {
        "id": "SUw4QKNrj7Ux"
      },
      "source": [
        "del df_JP['eu_sales']\n",
        "del df_JP['na_sales']\n",
        "del df_JP['other_sales']\n",
        "del df_JP['tot_sales']"
      ],
      "execution_count": null,
      "outputs": []
    },
    {
      "cell_type": "code",
      "metadata": {
        "id": "mMDPkqRvj7Ux"
      },
      "source": [
        "df_JP_platforms = (df_JP.groupby(['platform'])\n",
        "          .agg({'jp_sales':('sum')})).sort_values(by = 'jp_sales', ascending = False)"
      ],
      "execution_count": null,
      "outputs": []
    },
    {
      "cell_type": "code",
      "metadata": {
        "id": "yRuSb_Qzj7Ux",
        "outputId": "16207a32-4408-4523-db10-b5f8fdde8401"
      },
      "source": [
        "df_JP_platforms"
      ],
      "execution_count": null,
      "outputs": [
        {
          "output_type": "execute_result",
          "data": {
            "text/html": [
              "<div>\n",
              "<style scoped>\n",
              "    .dataframe tbody tr th:only-of-type {\n",
              "        vertical-align: middle;\n",
              "    }\n",
              "\n",
              "    .dataframe tbody tr th {\n",
              "        vertical-align: top;\n",
              "    }\n",
              "\n",
              "    .dataframe thead th {\n",
              "        text-align: right;\n",
              "    }\n",
              "</style>\n",
              "<table border=\"1\" class=\"dataframe\">\n",
              "  <thead>\n",
              "    <tr style=\"text-align: right;\">\n",
              "      <th></th>\n",
              "      <th>jp_sales</th>\n",
              "    </tr>\n",
              "    <tr>\n",
              "      <th>platform</th>\n",
              "      <th></th>\n",
              "    </tr>\n",
              "  </thead>\n",
              "  <tbody>\n",
              "    <tr>\n",
              "      <td>3DS</td>\n",
              "      <td>44.24</td>\n",
              "    </tr>\n",
              "    <tr>\n",
              "      <td>PS4</td>\n",
              "      <td>15.02</td>\n",
              "    </tr>\n",
              "    <tr>\n",
              "      <td>PSV</td>\n",
              "      <td>14.54</td>\n",
              "    </tr>\n",
              "    <tr>\n",
              "      <td>PS3</td>\n",
              "      <td>11.22</td>\n",
              "    </tr>\n",
              "    <tr>\n",
              "      <td>WiiU</td>\n",
              "      <td>7.31</td>\n",
              "    </tr>\n",
              "    <tr>\n",
              "      <td>PSP</td>\n",
              "      <td>0.36</td>\n",
              "    </tr>\n",
              "    <tr>\n",
              "      <td>XOne</td>\n",
              "      <td>0.32</td>\n",
              "    </tr>\n",
              "    <tr>\n",
              "      <td>X360</td>\n",
              "      <td>0.08</td>\n",
              "    </tr>\n",
              "    <tr>\n",
              "      <td>PC</td>\n",
              "      <td>0.00</td>\n",
              "    </tr>\n",
              "    <tr>\n",
              "      <td>Wii</td>\n",
              "      <td>0.00</td>\n",
              "    </tr>\n",
              "  </tbody>\n",
              "</table>\n",
              "</div>"
            ],
            "text/plain": [
              "          jp_sales\n",
              "platform          \n",
              "3DS          44.24\n",
              "PS4          15.02\n",
              "PSV          14.54\n",
              "PS3          11.22\n",
              "WiiU          7.31\n",
              "PSP           0.36\n",
              "XOne          0.32\n",
              "X360          0.08\n",
              "PC            0.00\n",
              "Wii           0.00"
            ]
          },
          "metadata": {
            "tags": []
          },
          "execution_count": 89
        }
      ]
    },
    {
      "cell_type": "markdown",
      "metadata": {
        "id": "qKpRAeiKj7Uy"
      },
      "source": [
        "На японском рынке популярные платформы координально отличаются от европы и америки. В топе 3DS и другие портативные приставки. А на PC крайне мало продаж игр. Также популярна платформа PS4."
      ]
    },
    {
      "cell_type": "code",
      "metadata": {
        "id": "diVR1i7Qj7Uy"
      },
      "source": [
        "df_JP_genre = (df_JP.groupby(['genre'])\n",
        "          .agg({'jp_sales':('sum')})).sort_values(by = 'jp_sales', ascending = False)"
      ],
      "execution_count": null,
      "outputs": []
    },
    {
      "cell_type": "code",
      "metadata": {
        "id": "C4t8YbHhj7Uy",
        "outputId": "9b1b1e23-d93e-4796-cd80-0e3296c3c814"
      },
      "source": [
        "df_JP_genre"
      ],
      "execution_count": null,
      "outputs": [
        {
          "output_type": "execute_result",
          "data": {
            "text/html": [
              "<div>\n",
              "<style scoped>\n",
              "    .dataframe tbody tr th:only-of-type {\n",
              "        vertical-align: middle;\n",
              "    }\n",
              "\n",
              "    .dataframe tbody tr th {\n",
              "        vertical-align: top;\n",
              "    }\n",
              "\n",
              "    .dataframe thead th {\n",
              "        text-align: right;\n",
              "    }\n",
              "</style>\n",
              "<table border=\"1\" class=\"dataframe\">\n",
              "  <thead>\n",
              "    <tr style=\"text-align: right;\">\n",
              "      <th></th>\n",
              "      <th>jp_sales</th>\n",
              "    </tr>\n",
              "    <tr>\n",
              "      <th>genre</th>\n",
              "      <th></th>\n",
              "    </tr>\n",
              "  </thead>\n",
              "  <tbody>\n",
              "    <tr>\n",
              "      <td>Role-Playing</td>\n",
              "      <td>31.16</td>\n",
              "    </tr>\n",
              "    <tr>\n",
              "      <td>Action</td>\n",
              "      <td>29.58</td>\n",
              "    </tr>\n",
              "    <tr>\n",
              "      <td>Fighting</td>\n",
              "      <td>6.37</td>\n",
              "    </tr>\n",
              "    <tr>\n",
              "      <td>Misc</td>\n",
              "      <td>5.61</td>\n",
              "    </tr>\n",
              "    <tr>\n",
              "      <td>Shooter</td>\n",
              "      <td>4.87</td>\n",
              "    </tr>\n",
              "    <tr>\n",
              "      <td>Adventure</td>\n",
              "      <td>3.60</td>\n",
              "    </tr>\n",
              "    <tr>\n",
              "      <td>Sports</td>\n",
              "      <td>3.26</td>\n",
              "    </tr>\n",
              "    <tr>\n",
              "      <td>Platform</td>\n",
              "      <td>2.69</td>\n",
              "    </tr>\n",
              "    <tr>\n",
              "      <td>Simulation</td>\n",
              "      <td>2.31</td>\n",
              "    </tr>\n",
              "    <tr>\n",
              "      <td>Racing</td>\n",
              "      <td>1.76</td>\n",
              "    </tr>\n",
              "    <tr>\n",
              "      <td>Strategy</td>\n",
              "      <td>0.95</td>\n",
              "    </tr>\n",
              "    <tr>\n",
              "      <td>Puzzle</td>\n",
              "      <td>0.93</td>\n",
              "    </tr>\n",
              "  </tbody>\n",
              "</table>\n",
              "</div>"
            ],
            "text/plain": [
              "              jp_sales\n",
              "genre                 \n",
              "Role-Playing     31.16\n",
              "Action           29.58\n",
              "Fighting          6.37\n",
              "Misc              5.61\n",
              "Shooter           4.87\n",
              "Adventure         3.60\n",
              "Sports            3.26\n",
              "Platform          2.69\n",
              "Simulation        2.31\n",
              "Racing            1.76\n",
              "Strategy          0.95\n",
              "Puzzle            0.93"
            ]
          },
          "metadata": {
            "tags": []
          },
          "execution_count": 91
        }
      ]
    },
    {
      "cell_type": "markdown",
      "metadata": {
        "id": "D3UxhEe1j7Uy"
      },
      "source": [
        "Как и платформы, популярные жанры в японии тоже отличны от остального мира. Первое место занимают ролевые игры, а уже потом идет экшн. Остальные жанры заметно менее популярны."
      ]
    },
    {
      "cell_type": "code",
      "metadata": {
        "id": "Q9_FxJyFj7Uy"
      },
      "source": [
        "df_JP_rating = (df_JP.groupby(['rating'])\n",
        "          .agg({'jp_sales':('sum')})).sort_values(by = 'jp_sales', ascending = False)"
      ],
      "execution_count": null,
      "outputs": []
    },
    {
      "cell_type": "code",
      "metadata": {
        "id": "826gUt9Hj7Uz",
        "outputId": "bfe39d1d-5eeb-4b98-816d-94cb03a822ce"
      },
      "source": [
        "df_JP_rating"
      ],
      "execution_count": null,
      "outputs": [
        {
          "output_type": "execute_result",
          "data": {
            "text/html": [
              "<div>\n",
              "<style scoped>\n",
              "    .dataframe tbody tr th:only-of-type {\n",
              "        vertical-align: middle;\n",
              "    }\n",
              "\n",
              "    .dataframe tbody tr th {\n",
              "        vertical-align: top;\n",
              "    }\n",
              "\n",
              "    .dataframe thead th {\n",
              "        text-align: right;\n",
              "    }\n",
              "</style>\n",
              "<table border=\"1\" class=\"dataframe\">\n",
              "  <thead>\n",
              "    <tr style=\"text-align: right;\">\n",
              "      <th></th>\n",
              "      <th>jp_sales</th>\n",
              "    </tr>\n",
              "    <tr>\n",
              "      <th>rating</th>\n",
              "      <th></th>\n",
              "    </tr>\n",
              "  </thead>\n",
              "  <tbody>\n",
              "    <tr>\n",
              "      <td>undefined</td>\n",
              "      <td>56.90</td>\n",
              "    </tr>\n",
              "    <tr>\n",
              "      <td>T</td>\n",
              "      <td>14.78</td>\n",
              "    </tr>\n",
              "    <tr>\n",
              "      <td>E</td>\n",
              "      <td>8.94</td>\n",
              "    </tr>\n",
              "    <tr>\n",
              "      <td>M</td>\n",
              "      <td>8.01</td>\n",
              "    </tr>\n",
              "    <tr>\n",
              "      <td>E10+</td>\n",
              "      <td>4.46</td>\n",
              "    </tr>\n",
              "  </tbody>\n",
              "</table>\n",
              "</div>"
            ],
            "text/plain": [
              "           jp_sales\n",
              "rating             \n",
              "undefined     56.90\n",
              "T             14.78\n",
              "E              8.94\n",
              "M              8.01\n",
              "E10+           4.46"
            ]
          },
          "metadata": {
            "tags": []
          },
          "execution_count": 93
        }
      ]
    },
    {
      "cell_type": "markdown",
      "metadata": {
        "id": "MW63NItzj7Uz"
      },
      "source": [
        "Для региона JP самыми популярными игры являются игры с неопределенным рейтингом, затем идут с рейтингом Т и Е."
      ]
    },
    {
      "cell_type": "markdown",
      "metadata": {
        "id": "FUWDkkevj7Uz"
      },
      "source": [
        "Портрет пользователя в японии выглядит так: играет на платформе 3DS или на других портативных играх в ролевые игры (или в шутеры). Игры при этом неопределенного рейтинга."
      ]
    },
    {
      "cell_type": "markdown",
      "metadata": {
        "id": "lUAdkPGJj7Uz"
      },
      "source": [
        "<div>\n",
        "    \n",
        "<b> Вывод</b>\n",
        "\n",
        "<div> "
      ]
    },
    {
      "cell_type": "markdown",
      "metadata": {
        "id": "RVQthQK8j7Uz"
      },
      "source": [
        "Для европы и америки портреты типичного геймера схожи, отличаются они только тем, что в америке игры на компьютере пользуются меньшим спросом. А вот в японии отличий намного больше. В ней любят играть в портативные приставки, в ролевые игры."
      ]
    },
    {
      "cell_type": "markdown",
      "metadata": {
        "id": "IRMmQaucj7U1"
      },
      "source": [
        "Проверка гипотез\n",
        "======="
      ]
    },
    {
      "cell_type": "markdown",
      "metadata": {
        "id": "tRGpG7LEj7U1"
      },
      "source": [
        "<div>\n",
        "    \n",
        "<b> Гипотеза 1</b>\n",
        "\n",
        "<div> "
      ]
    },
    {
      "cell_type": "markdown",
      "metadata": {
        "id": "3jd_xGdaj7U1"
      },
      "source": [
        "Поскольку нулевая гипотеза всегда со знаком равно, сформулировал нулевую и альтернативную гипотезу следующим образом:"
      ]
    },
    {
      "cell_type": "markdown",
      "metadata": {
        "id": "Ginj9Mwwj7U1"
      },
      "source": [
        "Нулевая гипотеза - средние пользовательские рейтинги платформ Xbox One и PC одинаковые\n",
        "\n",
        "Альтернативная гипотеза - средние пользовательские рейтинги платформ Xbox One и PC различные"
      ]
    },
    {
      "cell_type": "code",
      "metadata": {
        "id": "rigK59CHj7U2"
      },
      "source": [
        "df_Xbox_One = df.query('platform == \"XOne\"')\n",
        "df_PC = df.query('platform == \"PC\"')"
      ],
      "execution_count": null,
      "outputs": []
    },
    {
      "cell_type": "code",
      "metadata": {
        "id": "Y38K8nI-j7U2",
        "outputId": "f7d0458c-16db-4f98-a86a-f5a41a584148"
      },
      "source": [
        "variance = np.var(df_Xbox_One['user_score'])\n",
        "print('Дисперсия_для_Xbox_One', variance)\n",
        "variance = np.var(df_PC['user_score'])\n",
        "print('Дисперсия_для_PC', variance)"
      ],
      "execution_count": null,
      "outputs": [
        {
          "output_type": "stream",
          "text": [
            "Дисперсия_для_Xbox_One 4.0742097774436905\n",
            "Дисперсия_для_PC 5.019253013781961\n"
          ],
          "name": "stdout"
        }
      ]
    },
    {
      "cell_type": "markdown",
      "metadata": {
        "id": "xtQoh4Gpj7U2"
      },
      "source": [
        "Поскольку дисперсии различаются, то в метод .ttest_ind() а аргумент нужно вписать equal_var = False"
      ]
    },
    {
      "cell_type": "code",
      "metadata": {
        "id": "Xvj4nuw9j7U2"
      },
      "source": [
        "df_Xbox_One.dropna(subset = ['user_score'], inplace = True)"
      ],
      "execution_count": null,
      "outputs": []
    },
    {
      "cell_type": "code",
      "metadata": {
        "id": "63vV9eG5j7U2"
      },
      "source": [
        "df_PC.dropna(subset = ['user_score'], inplace = True)"
      ],
      "execution_count": null,
      "outputs": []
    },
    {
      "cell_type": "markdown",
      "metadata": {
        "id": "gv-3D_l2j7U2"
      },
      "source": [
        "Для проверки гипотез необходимо, чтобы в исследуемых данных не было NaN. Поэтому удалил их в рамках этого раздела."
      ]
    },
    {
      "cell_type": "code",
      "metadata": {
        "id": "agw2mNgPj7U3",
        "outputId": "11a4e157-a4b1-48b6-94bc-99d6c2883d74"
      },
      "source": [
        "alpha = 0.05\n",
        "results = st.ttest_ind(df_Xbox_One['user_score'], df_PC['user_score'], equal_var = False)\n",
        "print('p-значение:', results.pvalue)\n",
        "\n",
        "if results.pvalue < alpha:\n",
        "    print('Отвергаем нулевую гипотезу')\n",
        "else:\n",
        "    print('Не получилось отвергнуть нулевую гипотезу') "
      ],
      "execution_count": null,
      "outputs": [
        {
          "output_type": "stream",
          "text": [
            "p-значение: 0.006849697055461881\n",
            "Отвергаем нулевую гипотезу\n"
          ],
          "name": "stdout"
        }
      ]
    },
    {
      "cell_type": "markdown",
      "metadata": {
        "id": "3o1znTPOj7U3"
      },
      "source": [
        "Вывод к гипотезе 1: Средние пользовательские рейтинги платформ Xbox One и PC различны."
      ]
    },
    {
      "cell_type": "markdown",
      "metadata": {
        "id": "t0jdWeRqj7U3"
      },
      "source": [
        "<div>\n",
        "    \n",
        "<b> Гипотеза 2</b>\n",
        "\n",
        "<div> "
      ]
    },
    {
      "cell_type": "markdown",
      "metadata": {
        "id": "ahe26l2Dj7U3"
      },
      "source": [
        "Поскольку нулевая гипотеза всегда со знаком равно, сформулировал нулевую и альтернативную гипотезу следующим образом:"
      ]
    },
    {
      "cell_type": "markdown",
      "metadata": {
        "id": "5E0fPtZUj7U3"
      },
      "source": [
        "Нулевая гипотеза - средние пользовательские рейтинги игр жанра Экшн и Спорт одинаковые\n",
        "\n",
        "Альтернативная гипотеза - средние пользовательские рейтинги игр жанра Экшн и Спорт различные"
      ]
    },
    {
      "cell_type": "code",
      "metadata": {
        "id": "lKYYARUMj7U4"
      },
      "source": [
        "df_Action = df.query('genre == \"Action\"')\n",
        "df_Sports = df.query('genre == \"Sports\"')"
      ],
      "execution_count": null,
      "outputs": []
    },
    {
      "cell_type": "code",
      "metadata": {
        "id": "BKOkP5blj7U4",
        "outputId": "4554bc6c-58e0-456d-b404-e154b9a72d0c"
      },
      "source": [
        "variance = np.var(df_Action['user_score'])\n",
        "print('Дисперсия для жанра Action', variance)\n",
        "variance = np.var(df_Sports['user_score'])\n",
        "print('Дисперсия для жанра Sports', variance)"
      ],
      "execution_count": null,
      "outputs": [
        {
          "output_type": "stream",
          "text": [
            "Дисперсия для жанра Action 8.721134848829664\n",
            "Дисперсия для жанра Sports 11.472441047993238\n"
          ],
          "name": "stdout"
        }
      ]
    },
    {
      "cell_type": "markdown",
      "metadata": {
        "id": "X9A3USK0j7U4"
      },
      "source": [
        "Поскольку дисперсии различаются, то в метод .ttest_ind() а аргумент нужно вписать equal_var = False"
      ]
    },
    {
      "cell_type": "code",
      "metadata": {
        "id": "RDRg-0K7j7U4"
      },
      "source": [
        "df_Action.dropna(subset = ['user_score'], inplace = True)"
      ],
      "execution_count": null,
      "outputs": []
    },
    {
      "cell_type": "code",
      "metadata": {
        "id": "3H_fnM8Xj7U5"
      },
      "source": [
        "df_Sports.dropna(subset = ['user_score'], inplace = True)"
      ],
      "execution_count": null,
      "outputs": []
    },
    {
      "cell_type": "markdown",
      "metadata": {
        "id": "UMrUh3Pjj7U5"
      },
      "source": [
        "Для проверки гипотез необходимо, чтобы в исследуемых данных не было NaN. Поэтому удалил их в рамках этого раздела."
      ]
    },
    {
      "cell_type": "code",
      "metadata": {
        "id": "il1bbyJFj7U5",
        "outputId": "dd527038-966c-4f1d-f70d-3b1cd25498f9"
      },
      "source": [
        "alpha = 0.05\n",
        "results = st.ttest_ind(df_Action['user_score'], df_Sports['user_score'], equal_var = False)\n",
        "print('p-значение:', results.pvalue)\n",
        "\n",
        "if results.pvalue < alpha:\n",
        "    print('Отвергаем нулевую гипотезу')\n",
        "else:\n",
        "    print('Не получилось отвергнуть нулевую гипотезу') "
      ],
      "execution_count": null,
      "outputs": [
        {
          "output_type": "stream",
          "text": [
            "p-значение: 6.713649529993891e-13\n",
            "Отвергаем нулевую гипотезу\n"
          ],
          "name": "stdout"
        }
      ]
    },
    {
      "cell_type": "markdown",
      "metadata": {
        "id": "wqu7E7U9j7U5"
      },
      "source": [
        "Вывод к гипотезе 2: Средние пользовательские рейтинги игр жанра Экшн и Спорт различны."
      ]
    },
    {
      "cell_type": "markdown",
      "metadata": {
        "id": "mCFBqTbpj7U5"
      },
      "source": [
        "Общий вывод\n",
        "======="
      ]
    },
    {
      "cell_type": "markdown",
      "metadata": {
        "id": "VN2R2YfHj7U6"
      },
      "source": [
        "В рамках данного проекта выполнил агализ данных игр разных жанров для разных игровых приставок. Для этого на этапе предобработки данных заменил отсутствующие значения на ноль в столбце 'year_of_release' для того, чтобы можно было поменять тип данных. Также поменял тип данных для столбца user_score. Для этого пришлось заменить буквенное значение \"tbd\" на цифровое \"0\".\n",
        "\n",
        "Заполнять пропущенные значения в столбцах 'critic_score' и 'user_score' не стал, поскольку это может исказить действительность. Я предполагаю, что эти зачения пропущены для игр, которые вышли в те времена, когда не существовало платформы с рейтингом, или для игр, которые прошли незаметно, которые мало кто покупал и, соответственно, некому было ставить оценку для рейтинга.\n",
        "\n",
        "Далее посчитал общие продажи, сложив продажи в америке, европе, японии и других регионах. Затем создал сводную таблицу по прожадам игр на разных платформах по годам. Затем отсортировал года по категориям (десятилетиям). Стало видно, что данные до 2000 года нам не так нужны, поскольку их довольно мало (к тому же эти игры и платформы устарели).\n",
        "\n",
        "Проверил, как менялись продажи игр по платформам. На основе срезов для каждый платформы я сделал вывод, что обычно пик активности платформы приходится на первые 5-6 лет. На последние два года из этого периода приходится всё меньше продаж и производитель выпукает новое поколение платформы. Также выяснил, что самыми популярными платформами являются PS4 и XBOX ONE. Как и предыдущие покаления этих приставок, они пользуются большой популярностью со старта прожаж. Из портативных игровых приставок выделяется 3DS, но ее популярность в мире идет на спад.\n",
        "\n",
        "Затем выяснил, что отзывы критиков немного влияют на продажи игр. А вот отзывы пользователей и рейтинг игры (ESRB) не влияют на продажи.\n",
        "\n",
        "Самыми популярными жанрами оказались экшн, шутер, спорт и ролевые игры.При этом жанр экшн лидирует с большим отрывом. Но ситуация меняется в зависимости от региона.\n",
        "\n",
        "Проверил, как различаются портреты среднестатистического геймера в разных регионах. Портрет пользователя в америке выглядит так: играет на платформе PS4 или XBOX ONE в экшн (или в шутеры, или в спортивные игры). Игры при этом рейтинга M или E. Портрет пользователя в европе выглядит так: играет на платформе PS4, РС или XBOX ONE в экшн (или в шутеры, или в спортивные игры). Игры при этом рейтинга M или E. А портрет пользователя в японии выглядит так: играет на платформе 3DS или на других портативных играх в ролевые игры (или в шутеры). Игры при этом рейтинга Е или Т. Для европы и америки портреты типичного геймера схожи, отличаются они только тем, что в америке игры на компьютере пользуются меньгим спросом. А вот в японии отличий намного больше. В ней любят играть в портативные приставки, в ролевые игры.\n",
        "\n",
        "Также я проверил 2 основных гипотезы.  Выяснил, что средние пользовательские рейтинги платформ Xbox One и PC различны (это была первая гипотеза). И средние пользовательские рейтинги игр жанра Экшн и Спорт различны (вторая гипотеза).\n",
        "\n",
        "В итоге можно сказать, что если оринтироваться на европейский или американский рынок, то стоит вкладываться в рекламу для игр на платформе PS4 (или XBOX ONE, но выгоды может быть меньше). При этом жанр игр должен быть экшн (также можно шутер, спорт и ролевые игры, но опять же выгоды может быть меньше). Рейтинг игр предпочтителен M или E (или же неопределенный рейтинг).\n",
        "\n",
        "Если же азиатский рынок предпочтительнее, то стоит обратить внимание на поративыне игровые приставки, особенно на 3DS. Для этого региона популярны ролевые игры с неопределенным рейтингом."
      ]
    },
    {
      "cell_type": "code",
      "metadata": {
        "id": "AIsXR8FYj7U7"
      },
      "source": [
        ""
      ],
      "execution_count": null,
      "outputs": []
    }
  ]
}